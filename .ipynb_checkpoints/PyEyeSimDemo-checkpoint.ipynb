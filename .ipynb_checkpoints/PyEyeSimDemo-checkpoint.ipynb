{
 "cells": [
  {
   "cell_type": "markdown",
   "id": "2857f964-3254-4bc8-84ad-e499e9709d65",
   "metadata": {},
   "source": [
    "## Demo notebook, pyeyesim library"
   ]
  },
  {
   "cell_type": "code",
   "execution_count": 1,
   "id": "9d1f2305-d04f-4367-bfd0-03c5413ff308",
   "metadata": {},
   "outputs": [],
   "source": [
    "import pandas as pd\n",
    "import matplotlib.pyplot as plt\n",
    "import numpy as np\n",
    "import xarray as xr\n",
    "from scipy import stats"
   ]
  },
  {
   "cell_type": "code",
   "execution_count": null,
   "id": "2236ae71-82d7-4357-bd19-d419b8a7c4fa",
   "metadata": {},
   "outputs": [],
   "source": [
    "from PyEyeSim import pyeyesim_func as pysim\n"
   ]
  }
 ],
 "metadata": {
  "kernelspec": {
   "display_name": "Python 3 (ipykernel)",
   "language": "python",
   "name": "python3"
  },
  "language_info": {
   "codemirror_mode": {
    "name": "ipython",
    "version": 3
   },
   "file_extension": ".py",
   "mimetype": "text/x-python",
   "name": "python",
   "nbconvert_exporter": "python",
   "pygments_lexer": "ipython3",
   "version": "3.9.7"
  }
 },
 "nbformat": 4,
 "nbformat_minor": 5
}

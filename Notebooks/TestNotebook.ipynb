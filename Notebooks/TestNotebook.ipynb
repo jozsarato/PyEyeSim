{
 "cells": [
  {
   "cell_type": "code",
   "execution_count": 1,
   "id": "01717b75",
   "metadata": {},
   "outputs": [],
   "source": [
    "import pandas as pd\n",
    "import matplotlib.pyplot as plt\n",
    "import numpy as np\n",
    "import xarray as xr\n",
    "from scipy import stats\n"
   ]
  },
  {
   "cell_type": "code",
   "execution_count": 2,
   "id": "bd52f556",
   "metadata": {},
   "outputs": [],
   "source": [
    "from PyEyeSim import pyeyesim_func as pysim\n"
   ]
  },
  {
   "cell_type": "code",
   "execution_count": 2,
   "id": "f68b446d",
   "metadata": {},
   "outputs": [],
   "source": [
    "from PyEyeSim import pyeyesim_func_obj as pysim_o\n"
   ]
  },
  {
   "cell_type": "code",
   "execution_count": 3,
   "id": "0d9a4c7a",
   "metadata": {},
   "outputs": [],
   "source": [
    "%load_ext autoreload\n",
    "%autoreload 2"
   ]
  },
  {
   "cell_type": "code",
   "execution_count": 4,
   "id": "ea981b88",
   "metadata": {},
   "outputs": [
    {
     "data": {
      "text/html": [
       "<div>\n",
       "<style scoped>\n",
       "    .dataframe tbody tr th:only-of-type {\n",
       "        vertical-align: middle;\n",
       "    }\n",
       "\n",
       "    .dataframe tbody tr th {\n",
       "        vertical-align: top;\n",
       "    }\n",
       "\n",
       "    .dataframe thead th {\n",
       "        text-align: right;\n",
       "    }\n",
       "</style>\n",
       "<table border=\"1\" class=\"dataframe\">\n",
       "  <thead>\n",
       "    <tr style=\"text-align: right;\">\n",
       "      <th></th>\n",
       "      <th>Unnamed: 0</th>\n",
       "      <th>Unnamed: 0.1</th>\n",
       "      <th>subjectID</th>\n",
       "      <th>Number</th>\n",
       "      <th>GazePoints</th>\n",
       "      <th>mean_x</th>\n",
       "      <th>mean_y</th>\n",
       "      <th>radius</th>\n",
       "      <th>Cluster</th>\n",
       "      <th>Painting</th>\n",
       "      <th>PartGend</th>\n",
       "      <th>Gaze Points</th>\n",
       "      <th>Radius</th>\n",
       "    </tr>\n",
       "  </thead>\n",
       "  <tbody>\n",
       "    <tr>\n",
       "      <th>0</th>\n",
       "      <td>0</td>\n",
       "      <td>0</td>\n",
       "      <td>G_001</td>\n",
       "      <td>1.0</td>\n",
       "      <td>30.0</td>\n",
       "      <td>1231.0</td>\n",
       "      <td>860.0</td>\n",
       "      <td>19.9396</td>\n",
       "      <td>0.0</td>\n",
       "      <td>Bellini_Halbakt</td>\n",
       "      <td>Male</td>\n",
       "      <td>NaN</td>\n",
       "      <td>NaN</td>\n",
       "    </tr>\n",
       "    <tr>\n",
       "      <th>1</th>\n",
       "      <td>1</td>\n",
       "      <td>1</td>\n",
       "      <td>G_001</td>\n",
       "      <td>2.0</td>\n",
       "      <td>13.0</td>\n",
       "      <td>1242.0</td>\n",
       "      <td>412.0</td>\n",
       "      <td>25.8158</td>\n",
       "      <td>0.0</td>\n",
       "      <td>Bellini_Halbakt</td>\n",
       "      <td>Male</td>\n",
       "      <td>NaN</td>\n",
       "      <td>NaN</td>\n",
       "    </tr>\n",
       "    <tr>\n",
       "      <th>2</th>\n",
       "      <td>2</td>\n",
       "      <td>2</td>\n",
       "      <td>G_001</td>\n",
       "      <td>3.0</td>\n",
       "      <td>20.0</td>\n",
       "      <td>1255.0</td>\n",
       "      <td>419.0</td>\n",
       "      <td>37.4225</td>\n",
       "      <td>0.0</td>\n",
       "      <td>Bellini_Halbakt</td>\n",
       "      <td>Male</td>\n",
       "      <td>NaN</td>\n",
       "      <td>NaN</td>\n",
       "    </tr>\n",
       "    <tr>\n",
       "      <th>3</th>\n",
       "      <td>3</td>\n",
       "      <td>3</td>\n",
       "      <td>G_001</td>\n",
       "      <td>4.0</td>\n",
       "      <td>31.0</td>\n",
       "      <td>1270.0</td>\n",
       "      <td>440.0</td>\n",
       "      <td>25.6350</td>\n",
       "      <td>0.0</td>\n",
       "      <td>Bellini_Halbakt</td>\n",
       "      <td>Male</td>\n",
       "      <td>NaN</td>\n",
       "      <td>NaN</td>\n",
       "    </tr>\n",
       "    <tr>\n",
       "      <th>4</th>\n",
       "      <td>4</td>\n",
       "      <td>4</td>\n",
       "      <td>G_001</td>\n",
       "      <td>5.0</td>\n",
       "      <td>48.0</td>\n",
       "      <td>1045.0</td>\n",
       "      <td>751.0</td>\n",
       "      <td>37.7525</td>\n",
       "      <td>0.0</td>\n",
       "      <td>Bellini_Halbakt</td>\n",
       "      <td>Male</td>\n",
       "      <td>NaN</td>\n",
       "      <td>NaN</td>\n",
       "    </tr>\n",
       "    <tr>\n",
       "      <th>...</th>\n",
       "      <td>...</td>\n",
       "      <td>...</td>\n",
       "      <td>...</td>\n",
       "      <td>...</td>\n",
       "      <td>...</td>\n",
       "      <td>...</td>\n",
       "      <td>...</td>\n",
       "      <td>...</td>\n",
       "      <td>...</td>\n",
       "      <td>...</td>\n",
       "      <td>...</td>\n",
       "      <td>...</td>\n",
       "      <td>...</td>\n",
       "    </tr>\n",
       "    <tr>\n",
       "      <th>51610</th>\n",
       "      <td>28411</td>\n",
       "      <td>3714</td>\n",
       "      <td>P74_VF</td>\n",
       "      <td>74.0</td>\n",
       "      <td>36.0</td>\n",
       "      <td>823.0</td>\n",
       "      <td>656.0</td>\n",
       "      <td>23.1638</td>\n",
       "      <td>0.0</td>\n",
       "      <td>Wittmann_Selbstbildnis</td>\n",
       "      <td>Female</td>\n",
       "      <td>NaN</td>\n",
       "      <td>NaN</td>\n",
       "    </tr>\n",
       "    <tr>\n",
       "      <th>51611</th>\n",
       "      <td>28412</td>\n",
       "      <td>3715</td>\n",
       "      <td>P74_VF</td>\n",
       "      <td>75.0</td>\n",
       "      <td>22.0</td>\n",
       "      <td>850.0</td>\n",
       "      <td>658.0</td>\n",
       "      <td>20.8895</td>\n",
       "      <td>0.0</td>\n",
       "      <td>Wittmann_Selbstbildnis</td>\n",
       "      <td>Female</td>\n",
       "      <td>NaN</td>\n",
       "      <td>NaN</td>\n",
       "    </tr>\n",
       "    <tr>\n",
       "      <th>51612</th>\n",
       "      <td>28413</td>\n",
       "      <td>3716</td>\n",
       "      <td>P74_VF</td>\n",
       "      <td>76.0</td>\n",
       "      <td>14.0</td>\n",
       "      <td>828.0</td>\n",
       "      <td>668.0</td>\n",
       "      <td>27.6424</td>\n",
       "      <td>0.0</td>\n",
       "      <td>Wittmann_Selbstbildnis</td>\n",
       "      <td>Female</td>\n",
       "      <td>NaN</td>\n",
       "      <td>NaN</td>\n",
       "    </tr>\n",
       "    <tr>\n",
       "      <th>51613</th>\n",
       "      <td>28414</td>\n",
       "      <td>3717</td>\n",
       "      <td>P74_VF</td>\n",
       "      <td>77.0</td>\n",
       "      <td>17.0</td>\n",
       "      <td>825.0</td>\n",
       "      <td>659.0</td>\n",
       "      <td>28.2337</td>\n",
       "      <td>0.0</td>\n",
       "      <td>Wittmann_Selbstbildnis</td>\n",
       "      <td>Female</td>\n",
       "      <td>NaN</td>\n",
       "      <td>NaN</td>\n",
       "    </tr>\n",
       "    <tr>\n",
       "      <th>51614</th>\n",
       "      <td>28415</td>\n",
       "      <td>3718</td>\n",
       "      <td>P74_VF</td>\n",
       "      <td>78.0</td>\n",
       "      <td>48.0</td>\n",
       "      <td>829.0</td>\n",
       "      <td>643.0</td>\n",
       "      <td>20.6996</td>\n",
       "      <td>0.0</td>\n",
       "      <td>Wittmann_Selbstbildnis</td>\n",
       "      <td>Female</td>\n",
       "      <td>NaN</td>\n",
       "      <td>NaN</td>\n",
       "    </tr>\n",
       "  </tbody>\n",
       "</table>\n",
       "<p>51615 rows × 13 columns</p>\n",
       "</div>"
      ],
      "text/plain": [
       "       Unnamed: 0  Unnamed: 0.1 subjectID  Number  GazePoints  mean_x  mean_y  \\\n",
       "0               0             0     G_001     1.0        30.0  1231.0   860.0   \n",
       "1               1             1     G_001     2.0        13.0  1242.0   412.0   \n",
       "2               2             2     G_001     3.0        20.0  1255.0   419.0   \n",
       "3               3             3     G_001     4.0        31.0  1270.0   440.0   \n",
       "4               4             4     G_001     5.0        48.0  1045.0   751.0   \n",
       "...           ...           ...       ...     ...         ...     ...     ...   \n",
       "51610       28411          3714    P74_VF    74.0        36.0   823.0   656.0   \n",
       "51611       28412          3715    P74_VF    75.0        22.0   850.0   658.0   \n",
       "51612       28413          3716    P74_VF    76.0        14.0   828.0   668.0   \n",
       "51613       28414          3717    P74_VF    77.0        17.0   825.0   659.0   \n",
       "51614       28415          3718    P74_VF    78.0        48.0   829.0   643.0   \n",
       "\n",
       "        radius  Cluster                Painting PartGend  Gaze Points  Radius  \n",
       "0      19.9396      0.0         Bellini_Halbakt     Male          NaN     NaN  \n",
       "1      25.8158      0.0         Bellini_Halbakt     Male          NaN     NaN  \n",
       "2      37.4225      0.0         Bellini_Halbakt     Male          NaN     NaN  \n",
       "3      25.6350      0.0         Bellini_Halbakt     Male          NaN     NaN  \n",
       "4      37.7525      0.0         Bellini_Halbakt     Male          NaN     NaN  \n",
       "...        ...      ...                     ...      ...          ...     ...  \n",
       "51610  23.1638      0.0  Wittmann_Selbstbildnis   Female          NaN     NaN  \n",
       "51611  20.8895      0.0  Wittmann_Selbstbildnis   Female          NaN     NaN  \n",
       "51612  27.6424      0.0  Wittmann_Selbstbildnis   Female          NaN     NaN  \n",
       "51613  28.2337      0.0  Wittmann_Selbstbildnis   Female          NaN     NaN  \n",
       "51614  20.6996      0.0  Wittmann_Selbstbildnis   Female          NaN     NaN  \n",
       "\n",
       "[51615 rows x 13 columns]"
      ]
     },
     "execution_count": 4,
     "metadata": {},
     "output_type": "execute_result"
    }
   ],
   "source": [
    "MemoryStudy=0\n",
    "GenderStudy=1\n",
    "Mac=0  # set to 1 for macbook path, 0 for PC path\n",
    "if GenderStudy:\n",
    "    if Mac:\n",
    "        Filepath='/Volumes/GoogleDrive/My Drive/Vienna/CreaLab/GenderProject/GenderIIFemalePaint.csv'\n",
    "    else:\n",
    "        Filepath='C:\\\\Users\\\\aratoj87\\\\Google Drive\\\\Vienna\\\\CreaLab\\\\GenderProject\\\\GenderIIFemalePaint.csv'\n",
    "    sizeX=2560\n",
    "    sizeY=1600\n",
    "     #StimN='Pa'\n",
    "if MemoryStudy:\n",
    "    if Mac:\n",
    "        Filepath='/Users/jarato/Documents/EyeTracking/MemoryStudyFix.csv'\n",
    "    else:\n",
    "        Filepath='C:\\\\Users\\\\aratoj87\\\\Documents\\\\EyeTracking\\\\WilmKonigDatabase\\\\MemoryStudyFix.csv'\n",
    "    sizeX=1280\n",
    "    sizeY=960\n",
    "\n",
    "\n",
    "FixData=pd.read_csv(Filepath)\n",
    "if MemoryStudy:\n",
    "    FixData=FixData[FixData['Repetition']==1]\n",
    "   # StimN='Stimulus'\n",
    "\n",
    "\n",
    "#\n",
    "#fixData=pd.read_csv(Filepath)\n",
    "FixData"
   ]
  },
  {
   "cell_type": "code",
   "execution_count": 24,
   "id": "6bd5747c",
   "metadata": {},
   "outputs": [
    {
     "name": "stdout",
     "output_type": "stream",
     "text": [
      "Fixation dataset GenderStudy\n",
      "dataset size:  (51615, 13)\n",
      "study design:  Within\n",
      "presentation size:  x= 2560 pixels y= 1600  pixels\n",
      "presentation size:  x= 2560 pixels y= 1600  pixels\n",
      "StimName  not found !!, provide column as .columnNames(StimName='YourColumn') default Stimulus\n",
      "column found:  SubjName  default:  subjectID\n",
      "column found:  mean_x  default:  mean_x\n",
      "column found:  mean_y  default:  mean_y\n"
     ]
    }
   ],
   "source": [
    "MyDat=pysim_o.EyeData('GenderStudy','Within',FixData,sizeX,sizeY)"
   ]
  },
  {
   "cell_type": "code",
   "execution_count": 25,
   "id": "3ea1222b",
   "metadata": {},
   "outputs": [],
   "source": [
    "MyDat.columnNames(StimName='Painting')"
   ]
  },
  {
   "cell_type": "code",
   "execution_count": 20,
   "id": "131f9567",
   "metadata": {},
   "outputs": [
    {
     "name": "stdout",
     "output_type": "stream",
     "text": [
      "Data for  56 observers and  12  stimuli.\n",
      "Mean fixation number:  76.81  +/-  11.44\n",
      "fixation duration not asked for\n",
      "Num of trials with zero fixations: 1\n",
      "Num valid trials  671\n",
      "Mean X location:  1302.5  +/-  53.0  pixels\n",
      "Mean Y location:  771.5  +/-  78.3  pixels\n"
     ]
    },
    {
     "data": {
      "text/plain": [
       "(array(['Bellini_Halbakt', 'Bouguereau_JungeFrau', 'Cranach_Venus',\n",
       "        'David_Recamier', 'Gentileschi_Maria', 'Goya_MajaAngezogen',\n",
       "        'Goya_MajaNacht', 'Ingres_Odaliske', 'Spiro_Halbakt',\n",
       "        'Valadon_Selbstbildnis', 'VanLoo_JungeFrau',\n",
       "        'Wittmann_Selbstbildnis'], dtype=object),\n",
       " array(['G_001', 'G_002', 'G_003', 'G_004', 'G_006', 'G_007', 'G_009',\n",
       "        'G_010', 'G_011', 'G_014', 'G_016', 'G_017', 'G_019', 'G_020',\n",
       "        'G_021', 'G_023', 'G_025', 'G_026', 'G_027', 'G_030', 'G_031',\n",
       "        'G_033', 'G_034', 'G_036', 'G_037', 'G_038', 'G_039', 'G_042',\n",
       "        'G_043', 'G_044', 'G_045', 'G_046', 'G_048', 'G_050', 'G_051',\n",
       "        'G_053', 'G_054', 'G_055', 'G_056', 'G_057', 'G_058', 'G_059',\n",
       "        'G_060', 'G_061', 'G_062', 'G_064', 'G_065', 'G_066', 'P72_VF',\n",
       "        'P74_VF', 'P78_VF', 'P79_VF', 'P81_VF', 'P84_VF', 'P85_VF',\n",
       "        'P87_VF'], dtype=object))"
      ]
     },
     "execution_count": 20,
     "metadata": {},
     "output_type": "execute_result"
    },
    {
     "data": {
      "image/png": "[encoded data removed]",
      "text/plain": [
       "<Figure size 432x360 with 1 Axes>"
      ]
     },
     "metadata": {
      "needs_background": "light"
     },
     "output_type": "display_data"
    },
    {
     "data": {
      "image/png": "[encoded data removed]",
      "text/plain": [
       "<Figure size 432x288 with 1 Axes>"
      ]
     },
     "metadata": {
      "needs_background": "light"
     },
     "output_type": "display_data"
    }
   ],
   "source": [
    "MyDat.RunDescriptiveFix(Visual=1,duration=0)"
   ]
  },
  {
   "cell_type": "code",
   "execution_count": 23,
   "id": "95ad52e9",
   "metadata": {},
   "outputs": [
    {
     "name": "stdout",
     "output_type": "stream",
     "text": [
      "True\n"
     ]
    }
   ],
   "source": [
    "print(hasattr(MyDat,'Entropies'))"
   ]
  },
  {
   "cell_type": "code",
   "execution_count": null,
   "id": "686bd223",
   "metadata": {},
   "outputs": [],
   "source": [
    "print(hasattr(MyDat,'Entropies'))"
   ]
  },
  {
   "cell_type": "code",
   "execution_count": 17,
   "id": "6a46a36a",
   "metadata": {},
   "outputs": [
    {
     "name": "stdout",
     "output_type": "stream",
     "text": [
      "Conditions ['Female' 'Male']\n",
      "0 Bellini_Halbakt 5.65 maximum entropy 6.93\n",
      "1 Bouguereau_JungeFrau 5.09 maximum entropy 5.97\n",
      "2 Cranach_Venus 5.24 maximum entropy 6.27\n",
      "3 David_Recamier 5.62 maximum entropy 6.93\n",
      "4 Gentileschi_Maria 5.91 maximum entropy 6.97\n"
     ]
    },
    {
     "name": "stderr",
     "output_type": "stream",
     "text": [
      "C:\\Users\\aratoj87\\AppData\\Local\\Continuum\\anaconda3\\envs\\tf\\lib\\site-packages\\scipy\\stats\\_entropy.py:72: RuntimeWarning: invalid value encountered in true_divide\n",
      "  pk = 1.0*pk / np.sum(pk, axis=axis, keepdims=True)\n"
     ]
    },
    {
     "name": "stdout",
     "output_type": "stream",
     "text": [
      "5 Goya_MajaAngezogen 5.51 maximum entropy 7.0\n",
      "6 Goya_MajaNacht 5.5 maximum entropy 6.9\n",
      "7 Ingres_Odaliske 6.12 maximum entropy 7.15\n",
      "8 Spiro_Halbakt 5.47 maximum entropy 6.41\n",
      "9 Valadon_Selbstbildnis 5.92 maximum entropy 7.12\n",
      "10 VanLoo_JungeFrau 5.57 maximum entropy 6.34\n",
      "11 Wittmann_Selbstbildnis 5.47 maximum entropy 6.38\n",
      "0 Female Num fix=  77.39 +/- 13.25\n",
      "0 Female Entropy=  3.67 +/- 0.24\n",
      "1 Male Num fix=  76.26 +/- 9.41\n",
      "1 Male Entropy=  3.65 +/- 0.16\n"
     ]
    },
    {
     "data": {
      "image/png": "[encoded data removed]",
      "text/plain": [
       "<Figure size 504x288 with 2 Axes>"
      ]
     },
     "metadata": {
      "needs_background": "light"
     },
     "output_type": "display_data"
    }
   ],
   "source": [
    "MyDat.CompareGroupsFix('PartGend')"
   ]
  },
  {
   "cell_type": "code",
   "execution_count": 22,
   "id": "d55114e8",
   "metadata": {},
   "outputs": [
    {
     "name": "stdout",
     "output_type": "stream",
     "text": [
      "0 Bellini_Halbakt 5.65 maximum entropy 6.93\n",
      "1 Bouguereau_JungeFrau 5.09 maximum entropy 5.97\n",
      "2 Cranach_Venus 5.24 maximum entropy 6.27\n",
      "3 David_Recamier 5.62 maximum entropy 6.93\n",
      "4 Gentileschi_Maria 5.91 maximum entropy 6.97\n"
     ]
    },
    {
     "name": "stderr",
     "output_type": "stream",
     "text": [
      "C:\\Users\\aratoj87\\AppData\\Local\\Continuum\\anaconda3\\envs\\tf\\lib\\site-packages\\scipy\\stats\\_entropy.py:72: RuntimeWarning: invalid value encountered in true_divide\n",
      "  pk = 1.0*pk / np.sum(pk, axis=axis, keepdims=True)\n"
     ]
    },
    {
     "name": "stdout",
     "output_type": "stream",
     "text": [
      "5 Goya_MajaAngezogen 5.51 maximum entropy 7.0\n",
      "6 Goya_MajaNacht 5.5 maximum entropy 6.9\n",
      "7 Ingres_Odaliske 6.12 maximum entropy 7.15\n",
      "8 Spiro_Halbakt 5.47 maximum entropy 6.41\n",
      "9 Valadon_Selbstbildnis 5.92 maximum entropy 7.12\n",
      "10 VanLoo_JungeFrau 5.57 maximum entropy 6.34\n",
      "11 Wittmann_Selbstbildnis 5.47 maximum entropy 6.38\n"
     ]
    }
   ],
   "source": [
    " Entropies,EntropMax,EntropiesInd=MyDat.GetEntropies()"
   ]
  },
  {
   "cell_type": "code",
   "execution_count": 20,
   "id": "1c7d88f5",
   "metadata": {},
   "outputs": [
    {
     "data": {
      "text/plain": [
       "(56, 12)"
      ]
     },
     "execution_count": 20,
     "metadata": {},
     "output_type": "execute_result"
    }
   ],
   "source": [
    "np.shape(EntropiesInd)"
   ]
  },
  {
   "cell_type": "code",
   "execution_count": 17,
   "id": "a5df9023",
   "metadata": {},
   "outputs": [
    {
     "data": {
      "text/plain": [
       "array([6.92755791, 5.97126184, 6.26720055, 6.93342303, 6.96979067,\n",
       "       7.00306546, 6.89770494, 7.14991684, 6.41181827, 7.12286666,\n",
       "       6.3403593 , 6.37672695])"
      ]
     },
     "execution_count": 17,
     "metadata": {},
     "output_type": "execute_result"
    }
   ],
   "source": [
    "EntropMax"
   ]
  },
  {
   "cell_type": "code",
   "execution_count": 18,
   "id": "00aff03c",
   "metadata": {},
   "outputs": [],
   "source": [
    "FixCountInd=MyDat.FixCountCalc('Bellini_Halbakt')\n",
    "\n"
   ]
  },
  {
   "cell_type": "code",
   "execution_count": 169,
   "id": "214a8493",
   "metadata": {},
   "outputs": [
    {
     "data": {
      "text/plain": [
       "(31, 51)"
      ]
     },
     "execution_count": 169,
     "metadata": {},
     "output_type": "execute_result"
    }
   ],
   "source": [
    "np.shape(MyDat.BinnedCount(np.sum(MyDat.FixCountInd,0),'Bellini_Halbakt'))"
   ]
  },
  {
   "cell_type": "code",
   "execution_count": 19,
   "id": "ed4f8989",
   "metadata": {},
   "outputs": [
    {
     "data": {
      "text/plain": [
       "array([[0., 0., 0., ..., 0., 0., 0.],\n",
       "       [0., 0., 0., ..., 0., 0., 0.],\n",
       "       [0., 0., 0., ..., 0., 0., 0.],\n",
       "       ...,\n",
       "       [0., 0., 0., ..., 0., 0., 0.],\n",
       "       [0., 0., 0., ..., 0., 0., 0.],\n",
       "       [0., 0., 0., ..., 0., 0., 0.]])"
      ]
     },
     "execution_count": 19,
     "metadata": {},
     "output_type": "execute_result"
    },
    {
     "data": {
      "image/png": "[encoded data removed]",
      "text/plain": [
       "<Figure size 432x288 with 1 Axes>"
      ]
     },
     "metadata": {},
     "output_type": "display_data"
    }
   ],
   "source": [
    "MyDat.Heatmap('Bellini_Halbakt',SD=50,Vis=1)"
   ]
  },
  {
   "cell_type": "code",
   "execution_count": 110,
   "id": "62e59997",
   "metadata": {},
   "outputs": [
    {
     "ename": "KeyError",
     "evalue": "1",
     "output_type": "error",
     "traceback": [
      "\u001b[1;31m---------------------------------------------------------------------------\u001b[0m",
      "\u001b[1;31mKeyError\u001b[0m                                  Traceback (most recent call last)",
      "\u001b[1;32m~\\AppData\\Local\\Continuum\\anaconda3\\envs\\tf\\lib\\site-packages\\pandas\\core\\indexes\\base.py\u001b[0m in \u001b[0;36mget_loc\u001b[1;34m(self, key, method, tolerance)\u001b[0m\n\u001b[0;32m   3360\u001b[0m             \u001b[1;32mtry\u001b[0m\u001b[1;33m:\u001b[0m\u001b[1;33m\u001b[0m\u001b[1;33m\u001b[0m\u001b[0m\n\u001b[1;32m-> 3361\u001b[1;33m                 \u001b[1;32mreturn\u001b[0m \u001b[0mself\u001b[0m\u001b[1;33m.\u001b[0m\u001b[0m_engine\u001b[0m\u001b[1;33m.\u001b[0m\u001b[0mget_loc\u001b[0m\u001b[1;33m(\u001b[0m\u001b[0mcasted_key\u001b[0m\u001b[1;33m)\u001b[0m\u001b[1;33m\u001b[0m\u001b[1;33m\u001b[0m\u001b[0m\n\u001b[0m\u001b[0;32m   3362\u001b[0m             \u001b[1;32mexcept\u001b[0m \u001b[0mKeyError\u001b[0m \u001b[1;32mas\u001b[0m \u001b[0merr\u001b[0m\u001b[1;33m:\u001b[0m\u001b[1;33m\u001b[0m\u001b[1;33m\u001b[0m\u001b[0m\n",
      "\u001b[1;32m~\\AppData\\Local\\Continuum\\anaconda3\\envs\\tf\\lib\\site-packages\\pandas\\_libs\\index.pyx\u001b[0m in \u001b[0;36mpandas._libs.index.IndexEngine.get_loc\u001b[1;34m()\u001b[0m\n",
      "\u001b[1;32m~\\AppData\\Local\\Continuum\\anaconda3\\envs\\tf\\lib\\site-packages\\pandas\\_libs\\index.pyx\u001b[0m in \u001b[0;36mpandas._libs.index.IndexEngine.get_loc\u001b[1;34m()\u001b[0m\n",
      "\u001b[1;32mpandas\\_libs\\hashtable_class_helper.pxi\u001b[0m in \u001b[0;36mpandas._libs.hashtable.PyObjectHashTable.get_item\u001b[1;34m()\u001b[0m\n",
      "\u001b[1;32mpandas\\_libs\\hashtable_class_helper.pxi\u001b[0m in \u001b[0;36mpandas._libs.hashtable.PyObjectHashTable.get_item\u001b[1;34m()\u001b[0m\n",
      "\u001b[1;31mKeyError\u001b[0m: 1",
      "\nThe above exception was the direct cause of the following exception:\n",
      "\u001b[1;31mKeyError\u001b[0m                                  Traceback (most recent call last)",
      "\u001b[1;32m~\\AppData\\Local\\Temp/ipykernel_7588/615203682.py\u001b[0m in \u001b[0;36m<module>\u001b[1;34m\u001b[0m\n\u001b[1;32m----> 1\u001b[1;33m \u001b[0mMyDat\u001b[0m\u001b[1;33m.\u001b[0m\u001b[0mBounds\u001b[0m\u001b[1;33m[\u001b[0m\u001b[0mMyDat\u001b[0m\u001b[1;33m.\u001b[0m\u001b[0mBounds\u001b[0m\u001b[1;33m[\u001b[0m\u001b[1;34m'Stimulus'\u001b[0m\u001b[1;33m]\u001b[0m\u001b[1;33m==\u001b[0m\u001b[1;34m'Cranach_Venus'\u001b[0m\u001b[1;33m]\u001b[0m\u001b[1;33m[\u001b[0m\u001b[1;36m1\u001b[0m\u001b[1;33m]\u001b[0m\u001b[1;33m\u001b[0m\u001b[1;33m\u001b[0m\u001b[0m\n\u001b[0m",
      "\u001b[1;32m~\\AppData\\Local\\Continuum\\anaconda3\\envs\\tf\\lib\\site-packages\\pandas\\core\\frame.py\u001b[0m in \u001b[0;36m__getitem__\u001b[1;34m(self, key)\u001b[0m\n\u001b[0;32m   3456\u001b[0m             \u001b[1;32mif\u001b[0m \u001b[0mself\u001b[0m\u001b[1;33m.\u001b[0m\u001b[0mcolumns\u001b[0m\u001b[1;33m.\u001b[0m\u001b[0mnlevels\u001b[0m \u001b[1;33m>\u001b[0m \u001b[1;36m1\u001b[0m\u001b[1;33m:\u001b[0m\u001b[1;33m\u001b[0m\u001b[1;33m\u001b[0m\u001b[0m\n\u001b[0;32m   3457\u001b[0m                 \u001b[1;32mreturn\u001b[0m \u001b[0mself\u001b[0m\u001b[1;33m.\u001b[0m\u001b[0m_getitem_multilevel\u001b[0m\u001b[1;33m(\u001b[0m\u001b[0mkey\u001b[0m\u001b[1;33m)\u001b[0m\u001b[1;33m\u001b[0m\u001b[1;33m\u001b[0m\u001b[0m\n\u001b[1;32m-> 3458\u001b[1;33m             \u001b[0mindexer\u001b[0m \u001b[1;33m=\u001b[0m \u001b[0mself\u001b[0m\u001b[1;33m.\u001b[0m\u001b[0mcolumns\u001b[0m\u001b[1;33m.\u001b[0m\u001b[0mget_loc\u001b[0m\u001b[1;33m(\u001b[0m\u001b[0mkey\u001b[0m\u001b[1;33m)\u001b[0m\u001b[1;33m\u001b[0m\u001b[1;33m\u001b[0m\u001b[0m\n\u001b[0m\u001b[0;32m   3459\u001b[0m             \u001b[1;32mif\u001b[0m \u001b[0mis_integer\u001b[0m\u001b[1;33m(\u001b[0m\u001b[0mindexer\u001b[0m\u001b[1;33m)\u001b[0m\u001b[1;33m:\u001b[0m\u001b[1;33m\u001b[0m\u001b[1;33m\u001b[0m\u001b[0m\n\u001b[0;32m   3460\u001b[0m                 \u001b[0mindexer\u001b[0m \u001b[1;33m=\u001b[0m \u001b[1;33m[\u001b[0m\u001b[0mindexer\u001b[0m\u001b[1;33m]\u001b[0m\u001b[1;33m\u001b[0m\u001b[1;33m\u001b[0m\u001b[0m\n",
      "\u001b[1;32m~\\AppData\\Local\\Continuum\\anaconda3\\envs\\tf\\lib\\site-packages\\pandas\\core\\indexes\\base.py\u001b[0m in \u001b[0;36mget_loc\u001b[1;34m(self, key, method, tolerance)\u001b[0m\n\u001b[0;32m   3361\u001b[0m                 \u001b[1;32mreturn\u001b[0m \u001b[0mself\u001b[0m\u001b[1;33m.\u001b[0m\u001b[0m_engine\u001b[0m\u001b[1;33m.\u001b[0m\u001b[0mget_loc\u001b[0m\u001b[1;33m(\u001b[0m\u001b[0mcasted_key\u001b[0m\u001b[1;33m)\u001b[0m\u001b[1;33m\u001b[0m\u001b[1;33m\u001b[0m\u001b[0m\n\u001b[0;32m   3362\u001b[0m             \u001b[1;32mexcept\u001b[0m \u001b[0mKeyError\u001b[0m \u001b[1;32mas\u001b[0m \u001b[0merr\u001b[0m\u001b[1;33m:\u001b[0m\u001b[1;33m\u001b[0m\u001b[1;33m\u001b[0m\u001b[0m\n\u001b[1;32m-> 3363\u001b[1;33m                 \u001b[1;32mraise\u001b[0m \u001b[0mKeyError\u001b[0m\u001b[1;33m(\u001b[0m\u001b[0mkey\u001b[0m\u001b[1;33m)\u001b[0m \u001b[1;32mfrom\u001b[0m \u001b[0merr\u001b[0m\u001b[1;33m\u001b[0m\u001b[1;33m\u001b[0m\u001b[0m\n\u001b[0m\u001b[0;32m   3364\u001b[0m \u001b[1;33m\u001b[0m\u001b[0m\n\u001b[0;32m   3365\u001b[0m         \u001b[1;32mif\u001b[0m \u001b[0mis_scalar\u001b[0m\u001b[1;33m(\u001b[0m\u001b[0mkey\u001b[0m\u001b[1;33m)\u001b[0m \u001b[1;32mand\u001b[0m \u001b[0misna\u001b[0m\u001b[1;33m(\u001b[0m\u001b[0mkey\u001b[0m\u001b[1;33m)\u001b[0m \u001b[1;32mand\u001b[0m \u001b[1;32mnot\u001b[0m \u001b[0mself\u001b[0m\u001b[1;33m.\u001b[0m\u001b[0mhasnans\u001b[0m\u001b[1;33m:\u001b[0m\u001b[1;33m\u001b[0m\u001b[1;33m\u001b[0m\u001b[0m\n",
      "\u001b[1;31mKeyError\u001b[0m: 1"
     ]
    }
   ],
   "source": [
    "FixCountCalc()"
   ]
  },
  {
   "cell_type": "code",
   "execution_count": 25,
   "id": "eb0e492e",
   "metadata": {},
   "outputs": [
    {
     "data": {
      "text/plain": [
       "0         True\n",
       "1         True\n",
       "2         True\n",
       "3         True\n",
       "4         True\n",
       "         ...  \n",
       "51610    False\n",
       "51611    False\n",
       "51612    False\n",
       "51613    False\n",
       "51614    False\n",
       "Name: PartGend, Length: 51615, dtype: bool"
      ]
     },
     "execution_count": 25,
     "metadata": {},
     "output_type": "execute_result"
    }
   ],
   "source": [
    "MyDat.data['PartGend']=='Male'"
   ]
  }
 ],
 "metadata": {
  "kernelspec": {
   "display_name": "Python 3 (ipykernel)",
   "language": "python",
   "name": "python3"
  },
  "language_info": {
   "codemirror_mode": {
    "name": "ipython",
    "version": 3
   },
   "file_extension": ".py",
   "mimetype": "text/x-python",
   "name": "python",
   "nbconvert_exporter": "python",
   "pygments_lexer": "ipython3",
   "version": "3.7.12"
  }
 },
 "nbformat": 4,
 "nbformat_minor": 5
}

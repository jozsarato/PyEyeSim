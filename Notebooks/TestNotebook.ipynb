{
 "cells": [
  {
   "cell_type": "code",
   "execution_count": 1,
   "id": "01717b75",
   "metadata": {},
   "outputs": [],
   "source": [
    "import pandas as pd\n",
    "import matplotlib.pyplot as plt\n",
    "import numpy as np\n",
    "import xarray as xr\n",
    "from scipy import stats\n"
   ]
  },
  {
   "cell_type": "code",
   "execution_count": 2,
   "id": "bd52f556",
   "metadata": {},
   "outputs": [],
   "source": [
    "from PyEyeSim import pyeyesim_func as pysim\n"
   ]
  },
  {
   "cell_type": "code",
   "execution_count": 30,
   "id": "f68b446d",
   "metadata": {},
   "outputs": [],
   "source": [
    "from PyEyeSim import pyeyesim_func_obj as pysim_o\n"
   ]
  },
  {
   "cell_type": "code",
   "execution_count": 25,
   "id": "0d9a4c7a",
   "metadata": {},
   "outputs": [
    {
     "name": "stdout",
     "output_type": "stream",
     "text": [
      "The autoreload extension is already loaded. To reload it, use:\n",
      "  %reload_ext autoreload\n"
     ]
    }
   ],
   "source": [
    "%load_ext autoreload\n",
    "%autoreload 2"
   ]
  },
  {
   "cell_type": "code",
   "execution_count": 9,
   "id": "ea981b88",
   "metadata": {},
   "outputs": [
    {
     "data": {
      "text/html": [
       "<div>\n",
       "<style scoped>\n",
       "    .dataframe tbody tr th:only-of-type {\n",
       "        vertical-align: middle;\n",
       "    }\n",
       "\n",
       "    .dataframe tbody tr th {\n",
       "        vertical-align: top;\n",
       "    }\n",
       "\n",
       "    .dataframe thead th {\n",
       "        text-align: right;\n",
       "    }\n",
       "</style>\n",
       "<table border=\"1\" class=\"dataframe\">\n",
       "  <thead>\n",
       "    <tr style=\"text-align: right;\">\n",
       "      <th></th>\n",
       "      <th>Unnamed: 0</th>\n",
       "      <th>Unnamed: 0.1</th>\n",
       "      <th>subjectID</th>\n",
       "      <th>Number</th>\n",
       "      <th>GazePoints</th>\n",
       "      <th>mean_x</th>\n",
       "      <th>mean_y</th>\n",
       "      <th>radius</th>\n",
       "      <th>Cluster</th>\n",
       "      <th>Painting</th>\n",
       "      <th>PartGend</th>\n",
       "      <th>Gaze Points</th>\n",
       "      <th>Radius</th>\n",
       "    </tr>\n",
       "  </thead>\n",
       "  <tbody>\n",
       "    <tr>\n",
       "      <th>0</th>\n",
       "      <td>0</td>\n",
       "      <td>0</td>\n",
       "      <td>G_001</td>\n",
       "      <td>1.0</td>\n",
       "      <td>30.0</td>\n",
       "      <td>1231.0</td>\n",
       "      <td>860.0</td>\n",
       "      <td>19.9396</td>\n",
       "      <td>0.0</td>\n",
       "      <td>Bellini_Halbakt</td>\n",
       "      <td>Male</td>\n",
       "      <td>NaN</td>\n",
       "      <td>NaN</td>\n",
       "    </tr>\n",
       "    <tr>\n",
       "      <th>1</th>\n",
       "      <td>1</td>\n",
       "      <td>1</td>\n",
       "      <td>G_001</td>\n",
       "      <td>2.0</td>\n",
       "      <td>13.0</td>\n",
       "      <td>1242.0</td>\n",
       "      <td>412.0</td>\n",
       "      <td>25.8158</td>\n",
       "      <td>0.0</td>\n",
       "      <td>Bellini_Halbakt</td>\n",
       "      <td>Male</td>\n",
       "      <td>NaN</td>\n",
       "      <td>NaN</td>\n",
       "    </tr>\n",
       "    <tr>\n",
       "      <th>2</th>\n",
       "      <td>2</td>\n",
       "      <td>2</td>\n",
       "      <td>G_001</td>\n",
       "      <td>3.0</td>\n",
       "      <td>20.0</td>\n",
       "      <td>1255.0</td>\n",
       "      <td>419.0</td>\n",
       "      <td>37.4225</td>\n",
       "      <td>0.0</td>\n",
       "      <td>Bellini_Halbakt</td>\n",
       "      <td>Male</td>\n",
       "      <td>NaN</td>\n",
       "      <td>NaN</td>\n",
       "    </tr>\n",
       "    <tr>\n",
       "      <th>3</th>\n",
       "      <td>3</td>\n",
       "      <td>3</td>\n",
       "      <td>G_001</td>\n",
       "      <td>4.0</td>\n",
       "      <td>31.0</td>\n",
       "      <td>1270.0</td>\n",
       "      <td>440.0</td>\n",
       "      <td>25.6350</td>\n",
       "      <td>0.0</td>\n",
       "      <td>Bellini_Halbakt</td>\n",
       "      <td>Male</td>\n",
       "      <td>NaN</td>\n",
       "      <td>NaN</td>\n",
       "    </tr>\n",
       "    <tr>\n",
       "      <th>4</th>\n",
       "      <td>4</td>\n",
       "      <td>4</td>\n",
       "      <td>G_001</td>\n",
       "      <td>5.0</td>\n",
       "      <td>48.0</td>\n",
       "      <td>1045.0</td>\n",
       "      <td>751.0</td>\n",
       "      <td>37.7525</td>\n",
       "      <td>0.0</td>\n",
       "      <td>Bellini_Halbakt</td>\n",
       "      <td>Male</td>\n",
       "      <td>NaN</td>\n",
       "      <td>NaN</td>\n",
       "    </tr>\n",
       "    <tr>\n",
       "      <th>...</th>\n",
       "      <td>...</td>\n",
       "      <td>...</td>\n",
       "      <td>...</td>\n",
       "      <td>...</td>\n",
       "      <td>...</td>\n",
       "      <td>...</td>\n",
       "      <td>...</td>\n",
       "      <td>...</td>\n",
       "      <td>...</td>\n",
       "      <td>...</td>\n",
       "      <td>...</td>\n",
       "      <td>...</td>\n",
       "      <td>...</td>\n",
       "    </tr>\n",
       "    <tr>\n",
       "      <th>51610</th>\n",
       "      <td>28411</td>\n",
       "      <td>3714</td>\n",
       "      <td>P74_VF</td>\n",
       "      <td>74.0</td>\n",
       "      <td>36.0</td>\n",
       "      <td>823.0</td>\n",
       "      <td>656.0</td>\n",
       "      <td>23.1638</td>\n",
       "      <td>0.0</td>\n",
       "      <td>Wittmann_Selbstbildnis</td>\n",
       "      <td>Female</td>\n",
       "      <td>NaN</td>\n",
       "      <td>NaN</td>\n",
       "    </tr>\n",
       "    <tr>\n",
       "      <th>51611</th>\n",
       "      <td>28412</td>\n",
       "      <td>3715</td>\n",
       "      <td>P74_VF</td>\n",
       "      <td>75.0</td>\n",
       "      <td>22.0</td>\n",
       "      <td>850.0</td>\n",
       "      <td>658.0</td>\n",
       "      <td>20.8895</td>\n",
       "      <td>0.0</td>\n",
       "      <td>Wittmann_Selbstbildnis</td>\n",
       "      <td>Female</td>\n",
       "      <td>NaN</td>\n",
       "      <td>NaN</td>\n",
       "    </tr>\n",
       "    <tr>\n",
       "      <th>51612</th>\n",
       "      <td>28413</td>\n",
       "      <td>3716</td>\n",
       "      <td>P74_VF</td>\n",
       "      <td>76.0</td>\n",
       "      <td>14.0</td>\n",
       "      <td>828.0</td>\n",
       "      <td>668.0</td>\n",
       "      <td>27.6424</td>\n",
       "      <td>0.0</td>\n",
       "      <td>Wittmann_Selbstbildnis</td>\n",
       "      <td>Female</td>\n",
       "      <td>NaN</td>\n",
       "      <td>NaN</td>\n",
       "    </tr>\n",
       "    <tr>\n",
       "      <th>51613</th>\n",
       "      <td>28414</td>\n",
       "      <td>3717</td>\n",
       "      <td>P74_VF</td>\n",
       "      <td>77.0</td>\n",
       "      <td>17.0</td>\n",
       "      <td>825.0</td>\n",
       "      <td>659.0</td>\n",
       "      <td>28.2337</td>\n",
       "      <td>0.0</td>\n",
       "      <td>Wittmann_Selbstbildnis</td>\n",
       "      <td>Female</td>\n",
       "      <td>NaN</td>\n",
       "      <td>NaN</td>\n",
       "    </tr>\n",
       "    <tr>\n",
       "      <th>51614</th>\n",
       "      <td>28415</td>\n",
       "      <td>3718</td>\n",
       "      <td>P74_VF</td>\n",
       "      <td>78.0</td>\n",
       "      <td>48.0</td>\n",
       "      <td>829.0</td>\n",
       "      <td>643.0</td>\n",
       "      <td>20.6996</td>\n",
       "      <td>0.0</td>\n",
       "      <td>Wittmann_Selbstbildnis</td>\n",
       "      <td>Female</td>\n",
       "      <td>NaN</td>\n",
       "      <td>NaN</td>\n",
       "    </tr>\n",
       "  </tbody>\n",
       "</table>\n",
       "<p>51615 rows × 13 columns</p>\n",
       "</div>"
      ],
      "text/plain": [
       "       Unnamed: 0  Unnamed: 0.1 subjectID  Number  GazePoints  mean_x  mean_y  \\\n",
       "0               0             0     G_001     1.0        30.0  1231.0   860.0   \n",
       "1               1             1     G_001     2.0        13.0  1242.0   412.0   \n",
       "2               2             2     G_001     3.0        20.0  1255.0   419.0   \n",
       "3               3             3     G_001     4.0        31.0  1270.0   440.0   \n",
       "4               4             4     G_001     5.0        48.0  1045.0   751.0   \n",
       "...           ...           ...       ...     ...         ...     ...     ...   \n",
       "51610       28411          3714    P74_VF    74.0        36.0   823.0   656.0   \n",
       "51611       28412          3715    P74_VF    75.0        22.0   850.0   658.0   \n",
       "51612       28413          3716    P74_VF    76.0        14.0   828.0   668.0   \n",
       "51613       28414          3717    P74_VF    77.0        17.0   825.0   659.0   \n",
       "51614       28415          3718    P74_VF    78.0        48.0   829.0   643.0   \n",
       "\n",
       "        radius  Cluster                Painting PartGend  Gaze Points  Radius  \n",
       "0      19.9396      0.0         Bellini_Halbakt     Male          NaN     NaN  \n",
       "1      25.8158      0.0         Bellini_Halbakt     Male          NaN     NaN  \n",
       "2      37.4225      0.0         Bellini_Halbakt     Male          NaN     NaN  \n",
       "3      25.6350      0.0         Bellini_Halbakt     Male          NaN     NaN  \n",
       "4      37.7525      0.0         Bellini_Halbakt     Male          NaN     NaN  \n",
       "...        ...      ...                     ...      ...          ...     ...  \n",
       "51610  23.1638      0.0  Wittmann_Selbstbildnis   Female          NaN     NaN  \n",
       "51611  20.8895      0.0  Wittmann_Selbstbildnis   Female          NaN     NaN  \n",
       "51612  27.6424      0.0  Wittmann_Selbstbildnis   Female          NaN     NaN  \n",
       "51613  28.2337      0.0  Wittmann_Selbstbildnis   Female          NaN     NaN  \n",
       "51614  20.6996      0.0  Wittmann_Selbstbildnis   Female          NaN     NaN  \n",
       "\n",
       "[51615 rows x 13 columns]"
      ]
     },
     "execution_count": 9,
     "metadata": {},
     "output_type": "execute_result"
    }
   ],
   "source": [
    "MemoryStudy=0\n",
    "GenderStudy=1\n",
    "Mac=0  # set to 1 for macbook path, 0 for PC path\n",
    "if GenderStudy:\n",
    "    if Mac:\n",
    "        Filepath='/Volumes/GoogleDrive/My Drive/Vienna/CreaLab/GenderProject/GenderIIFemalePaint.csv'\n",
    "    else:\n",
    "        Filepath='C:\\\\Users\\\\aratoj87\\\\Google Drive\\\\Vienna\\\\CreaLab\\\\GenderProject\\\\GenderIIFemalePaint.csv'\n",
    "    sizeX=2560\n",
    "    sizeY=1600\n",
    "     #StimN='Pa'\n",
    "if MemoryStudy:\n",
    "    if Mac:\n",
    "        Filepath='/Users/jarato/Documents/EyeTracking/MemoryStudyFix.csv'\n",
    "    else:\n",
    "        Filepath='C:\\\\Users\\\\aratoj87\\\\Documents\\\\EyeTracking\\\\WilmKonigDatabase\\\\MemoryStudyFix.csv'\n",
    "    sizeX=1280\n",
    "    sizeY=960\n",
    "\n",
    "\n",
    "FixData=pd.read_csv(Filepath)\n",
    "if MemoryStudy:\n",
    "    FixData=FixData[FixData['Repetition']==1]\n",
    "   # StimN='Stimulus'\n",
    "\n",
    "\n",
    "#\n",
    "#fixData=pd.read_csv(Filepath)\n",
    "FixData"
   ]
  },
  {
   "cell_type": "code",
   "execution_count": 189,
   "id": "6bd5747c",
   "metadata": {},
   "outputs": [
    {
     "name": "stdout",
     "output_type": "stream",
     "text": [
      "Fixation dataset GenderStudy\n",
      "dataset size:  (51615, 13)\n",
      "study design:  Within\n",
      "presentation size:  x= 2560 pixels y= 1600  pixels\n"
     ]
    }
   ],
   "source": [
    "MyDat=pysim_o.EyeData('GenderStudy','Within',FixData,sizeX,sizeY)"
   ]
  },
  {
   "cell_type": "code",
   "execution_count": 190,
   "id": "3ea1222b",
   "metadata": {},
   "outputs": [],
   "source": [
    "MyDat.columnNames(StimName='Painting')"
   ]
  },
  {
   "cell_type": "code",
   "execution_count": 191,
   "id": "131f9567",
   "metadata": {},
   "outputs": [
    {
     "name": "stdout",
     "output_type": "stream",
     "text": [
      "Data for  56 observers and  12  stimuli.\n",
      "Mean fixation number:  76.81  +/-  11.44\n",
      "fixation duration not asked for\n",
      "Num of trials with zero fixations: 1\n",
      "Num valid trials  671\n",
      "Mean X location:  1302.5  +/-  53.0  pixels\n",
      "Mean Y location:  771.5  +/-  78.3  pixels\n"
     ]
    },
    {
     "data": {
      "text/plain": [
       "(array(['Bellini_Halbakt', 'Bouguereau_JungeFrau', 'Cranach_Venus',\n",
       "        'David_Recamier', 'Gentileschi_Maria', 'Goya_MajaAngezogen',\n",
       "        'Goya_MajaNacht', 'Ingres_Odaliske', 'Spiro_Halbakt',\n",
       "        'Valadon_Selbstbildnis', 'VanLoo_JungeFrau',\n",
       "        'Wittmann_Selbstbildnis'], dtype=object),\n",
       " array(['G_001', 'G_002', 'G_003', 'G_004', 'G_006', 'G_007', 'G_009',\n",
       "        'G_010', 'G_011', 'G_014', 'G_016', 'G_017', 'G_019', 'G_020',\n",
       "        'G_021', 'G_023', 'G_025', 'G_026', 'G_027', 'G_030', 'G_031',\n",
       "        'G_033', 'G_034', 'G_036', 'G_037', 'G_038', 'G_039', 'G_042',\n",
       "        'G_043', 'G_044', 'G_045', 'G_046', 'G_048', 'G_050', 'G_051',\n",
       "        'G_053', 'G_054', 'G_055', 'G_056', 'G_057', 'G_058', 'G_059',\n",
       "        'G_060', 'G_061', 'G_062', 'G_064', 'G_065', 'G_066', 'P72_VF',\n",
       "        'P74_VF', 'P78_VF', 'P79_VF', 'P81_VF', 'P84_VF', 'P85_VF',\n",
       "        'P87_VF'], dtype=object))"
      ]
     },
     "execution_count": 191,
     "metadata": {},
     "output_type": "execute_result"
    },
    {
     "data": {
      "image/png": "[encoded data removed]",
      "text/plain": [
       "<Figure size 432x360 with 1 Axes>"
      ]
     },
     "metadata": {
      "needs_background": "light"
     },
     "output_type": "display_data"
    },
    {
     "data": {
      "image/png": "[encoded data removed]",
      "text/plain": [
       "<Figure size 432x288 with 1 Axes>"
      ]
     },
     "metadata": {
      "needs_background": "light"
     },
     "output_type": "display_data"
    }
   ],
   "source": [
    "MyDat.RunDescriptiveFix(Visual=1,duration=0)"
   ]
  },
  {
   "cell_type": "code",
   "execution_count": 192,
   "id": "d55114e8",
   "metadata": {},
   "outputs": [
    {
     "name": "stdout",
     "output_type": "stream",
     "text": [
      "0 Bellini_Halbakt 5.65 maximum entropy 6.93\n",
      "1 Bouguereau_JungeFrau 5.09 maximum entropy 5.97\n",
      "2 Cranach_Venus 5.24 maximum entropy 6.27\n",
      "3 David_Recamier 5.62 maximum entropy 6.93\n",
      "4 Gentileschi_Maria 5.91 maximum entropy 6.97\n"
     ]
    },
    {
     "name": "stderr",
     "output_type": "stream",
     "text": [
      "C:\\Users\\aratoj87\\AppData\\Local\\Continuum\\anaconda3\\envs\\tf\\lib\\site-packages\\scipy\\stats\\_entropy.py:72: RuntimeWarning: invalid value encountered in true_divide\n",
      "  pk = 1.0*pk / np.sum(pk, axis=axis, keepdims=True)\n"
     ]
    },
    {
     "name": "stdout",
     "output_type": "stream",
     "text": [
      "5 Goya_MajaAngezogen 5.51 maximum entropy 7.0\n",
      "6 Goya_MajaNacht 5.5 maximum entropy 6.9\n",
      "7 Ingres_Odaliske 6.12 maximum entropy 7.15\n",
      "8 Spiro_Halbakt 5.47 maximum entropy 6.41\n",
      "9 Valadon_Selbstbildnis 5.92 maximum entropy 7.12\n",
      "10 VanLoo_JungeFrau 5.57 maximum entropy 6.34\n",
      "11 Wittmann_Selbstbildnis 5.47 maximum entropy 6.38\n"
     ]
    },
    {
     "ename": "ValueError",
     "evalue": "not enough values to unpack (expected 4, got 3)",
     "output_type": "error",
     "traceback": [
      "\u001b[1;31m---------------------------------------------------------------------------\u001b[0m",
      "\u001b[1;31mValueError\u001b[0m                                Traceback (most recent call last)",
      "\u001b[1;32m~\\AppData\\Local\\Temp/ipykernel_7588/780526166.py\u001b[0m in \u001b[0;36m<module>\u001b[1;34m\u001b[0m\n\u001b[1;32m----> 1\u001b[1;33m \u001b[0mEntropies\u001b[0m\u001b[1;33m,\u001b[0m\u001b[0mEntropMax\u001b[0m\u001b[1;33m,\u001b[0m\u001b[0mEntropiesInd\u001b[0m\u001b[1;33m,\u001b[0m\u001b[0mEntropiesMaxInd\u001b[0m\u001b[1;33m=\u001b[0m\u001b[0mMyDat\u001b[0m\u001b[1;33m.\u001b[0m\u001b[0mGetEntropies\u001b[0m\u001b[1;33m(\u001b[0m\u001b[1;33m)\u001b[0m\u001b[1;33m\u001b[0m\u001b[1;33m\u001b[0m\u001b[0m\n\u001b[0m",
      "\u001b[1;31mValueError\u001b[0m: not enough values to unpack (expected 4, got 3)"
     ]
    }
   ],
   "source": [
    " Entropies,EntropMax,EntropiesInd=MyDat.GetEntropies()"
   ]
  },
  {
   "cell_type": "code",
   "execution_count": 185,
   "id": "1c7d88f5",
   "metadata": {},
   "outputs": [
    {
     "data": {
      "text/plain": [
       "array([[3.8432336 , 3.39768644, 3.34837363, 3.36746995, 3.68388181,\n",
       "        3.12466941, 3.55315244, 3.52759616, 3.54748098, 3.67584625,\n",
       "        3.75119175, 3.41257093],\n",
       "       [3.48008265, 2.9510505 , 3.24971939, 3.14632873, 3.46619005,\n",
       "        3.63113711, 3.44274228, 3.68989449, 3.58386438, 3.73042449,\n",
       "        3.40360041, 3.63912972],\n",
       "       [3.70370751, 3.52396643, 3.7273556 , 3.66025719, 3.70730487,\n",
       "        3.8580179 , 3.61316759, 3.63255622, 3.63952741, 3.63171591,\n",
       "        3.7226203 , 3.8817691 ],\n",
       "       [3.76301812, 3.74311637, 3.5330772 , 3.70114354, 3.70025356,\n",
       "        3.8052559 , 3.69776933, 3.75317986, 3.61998945, 3.42326114,\n",
       "        3.8240624 , 3.84676305],\n",
       "       [3.76363014, 3.37478293, 3.35259371, 3.68059583, 3.89446841,\n",
       "        3.71129113, 3.58003351, 3.63618061, 3.44169637, 3.67214563,\n",
       "        3.78678221, 3.54919571],\n",
       "       [3.98782897, 3.69590881, 3.74464207, 3.86254531, 3.81560705,\n",
       "        3.90558895, 3.76499896, 3.92035411, 3.72564947, 3.74487523,\n",
       "        4.02365014, 3.88555047],\n",
       "       [3.86264838, 3.47788837, 3.76689855, 3.91243811, 3.95785586,\n",
       "        3.47497037, 3.6492313 , 3.87661873, 3.6879202 , 3.77035398,\n",
       "        3.32116599, 3.59236686],\n",
       "       [3.62302317, 3.79109322, 3.64952119, 3.78131837, 3.96587158,\n",
       "        3.91720034, 3.7819468 , 4.04291287, 3.59855512, 3.94577515,\n",
       "        3.94597298, 3.59672838],\n",
       "       [3.95003124, 3.77938962, 3.69739804, 3.10574621, 3.98183133,\n",
       "        3.36792205, 3.78804071, 4.1842635 , 3.93670382, 4.02414957,\n",
       "        3.91292641, 3.73721992],\n",
       "       [3.44036817, 3.70481058, 3.7061249 , 3.31160532, 3.6843814 ,\n",
       "        3.55421923, 3.29381376, 3.89159015, 3.33266767, 3.70942028,\n",
       "        3.52262188, 3.62678072],\n",
       "       [3.78290283, 3.68140149, 3.43835739, 3.86211966, 3.34504036,\n",
       "        3.69850366, 3.85970085, 3.86897702, 3.74337895, 3.84745544,\n",
       "        3.80171816, 3.7512376 ],\n",
       "       [3.9152491 , 3.6781247 , 3.69322556, 3.73500373, 4.07435788,\n",
       "        3.72773639, 3.83837324, 3.93766277, 3.58180048, 3.85656892,\n",
       "        3.92174522, 3.71457033],\n",
       "       [2.73740933, 3.23714029, 3.50400012, 3.56324847, 4.05225198,\n",
       "        3.16784114, 3.50023505, 3.81765699, 3.19739905, 3.05377671,\n",
       "        3.17478309, 3.12553562],\n",
       "       [3.30328607, 3.49688546, 3.61433008, 3.66777574, 3.83322635,\n",
       "        3.72721856, 3.66599325, 3.90249527, 3.40797974, 4.02546025,\n",
       "        3.84023049, 3.5175473 ],\n",
       "       [3.14539719, 3.2827717 , 3.26154915, 3.74399911, 3.36616027,\n",
       "        3.71881676, 3.67372894, 3.92639933, 3.16053932, 3.46276656,\n",
       "        3.83629379, 3.7955554 ],\n",
       "       [3.45676594, 3.84400097, 3.36374317, 3.37919357, 3.63835227,\n",
       "        3.06042573, 3.63952741, 3.83630685, 3.61834451, 3.71139143,\n",
       "        3.5234887 , 3.6091861 ],\n",
       "       [3.62518007, 3.6866803 , 3.49378179, 3.89088559, 4.02109272,\n",
       "        3.25157035, 3.67522972, 4.06821696, 3.7208411 , 3.92816644,\n",
       "        3.67122885, 3.80382315],\n",
       "       [3.65320107, 3.52183757, 3.67574207, 3.38961008, 3.9452887 ,\n",
       "        3.9921885 , 3.4697813 , 3.88977393, 3.86517422, 4.02619038,\n",
       "        3.53043467, 3.84296035],\n",
       "       [3.83132996, 3.56189541, 3.62787334, 3.65219828, 3.89920787,\n",
       "        3.6777526 , 3.94887707, 3.66585473, 3.80253693, 3.73531797,\n",
       "        3.67256363, 3.92736137],\n",
       "       [4.10725982, 3.10379459, 3.72681117, 3.50948499, 3.80638997,\n",
       "        2.80419451, 3.49184621, 3.83614236, 3.59925612, 3.72207818,\n",
       "        3.63784376, 3.42822152],\n",
       "       [3.75317986, 3.54999973, 3.65581517, 3.91984097, 3.81020717,\n",
       "        3.69390941, 3.74791623, 3.80086691, 3.84031427, 3.80482225,\n",
       "        3.86828125, 3.34225193],\n",
       "       [3.63001404, 3.61975478, 3.52552487, 3.59706235, 3.9532882 ,\n",
       "        3.89675391, 3.38000067, 3.81018201, 3.9813465 , 3.88854229,\n",
       "        3.88453195, 3.88903643],\n",
       "       [3.6557552 , 3.82061042, 3.65482945, 3.84841106, 3.95306124,\n",
       "        3.8375801 , 3.77149801, 3.68995356, 3.69014519, 3.4180906 ,\n",
       "        3.78424162, 3.86978235],\n",
       "       [3.56162776, 3.42679185, 3.72659771, 3.28415131, 3.85078616,\n",
       "        3.87578086, 3.08114253, 3.99462148, 3.75074849, 3.93148283,\n",
       "        3.84741137, 3.0151391 ],\n",
       "       [3.92013894, 3.62580983, 3.66427975, 3.88144928, 3.78813535,\n",
       "        3.79234195, 3.98562944, 4.07983435, 3.66015887, 3.96384754,\n",
       "        3.92733503, 3.93398281],\n",
       "       [4.02773451, 3.79090344, 3.72301697, 3.67195117, 4.07535912,\n",
       "        3.88596752, 3.86652813, 3.79466082, 3.9921885 , 3.92013894,\n",
       "        4.07346403, 3.84756777],\n",
       "       [4.00511844, 3.84023049, 3.78141732, 3.90679241, 4.08511386,\n",
       "        3.98058746, 4.01714022, 4.15113279, 3.88991184, 4.05583652,\n",
       "        3.95892971, 4.05583652],\n",
       "       [3.87311887, 3.69646269, 3.79178619, 3.89931202, 3.69611741,\n",
       "        3.82845228, 3.72088031, 3.9532882 , 3.62480865, 3.67485405,\n",
       "        3.86958446, 3.87067904],\n",
       "       [4.11074353, 3.89664753, 3.89651539, 3.87562258, 4.10327544,\n",
       "        3.92515486, 3.94989873, 4.11598822, 3.86363984, 3.90813975,\n",
       "        3.89648558, 3.94290582],\n",
       "       [3.91555786, 3.64933034, 3.7084823 , 3.88850905, 3.86627302,\n",
       "        3.83783521, 3.77656229, 3.73867149, 3.71804253, 3.64015195,\n",
       "        3.80350729, 4.01168021],\n",
       "       [3.15445724, 3.73707119, 3.61522945, 2.91853961, 3.81425487,\n",
       "        3.55422423, 2.87753065, 3.92713009, 2.96412379, 3.91826092,\n",
       "        3.80944309, 3.71012039],\n",
       "       [2.69801102, 2.44101528, 2.96682676, 2.6646192 , 2.82022754,\n",
       "        1.54982605, 2.75166662, 3.16567217, 2.25385759, 3.15145851,\n",
       "        3.34864601, 2.67011989],\n",
       "       [3.41874598, 3.61529356, 3.5723962 , 3.37414267, 3.73284024,\n",
       "        3.64019734, 3.60552226, 3.66733292, 3.57235886, 3.35086072,\n",
       "        3.73879618, 3.7081352 ],\n",
       "       [3.67822575, 3.73971763, 3.64813878, 3.918844  , 3.71130816,\n",
       "        3.7140862 , 4.01369106, 3.88213802, 3.65149086, 3.95189284,\n",
       "        3.47117062, 3.68309971],\n",
       "       [3.70953558, 3.80340665, 3.99998665, 3.47427974, 4.13470007,\n",
       "        4.10762164, 4.00203707, 4.11569598, 3.68161157, 3.84988282,\n",
       "        4.01241774, 4.02381505],\n",
       "       [3.54135162, 3.6588578 , 3.77605489, 3.30413725, 3.66044533,\n",
       "        3.75522374, 3.30823658, 3.43205391, 3.60000615, 3.99082708,\n",
       "        3.44167562, 3.27542869],\n",
       "       [3.57282005, 3.20458732, 3.05320347, 3.04265032, 3.83697534,\n",
       "        3.43509364, 3.4582872 , 3.23824202, 2.74895025, 3.77895899,\n",
       "        3.60780576, 3.45742255],\n",
       "       [3.74752933, 3.37714346, 3.2816148 , 3.36310354, 3.65492111,\n",
       "        3.29912833, 3.62338395, 4.030945  , 3.55613614, 3.49661174,\n",
       "        3.67955416, 3.43925983],\n",
       "       [3.86880259, 3.55939897, 3.52855437, 3.67280018, 3.49130383,\n",
       "        3.58840348, 3.46358031, 3.97350892, 3.66185271, 3.94092589,\n",
       "        3.75179666, 3.29107796],\n",
       "       [3.67459421, 3.67858533, 3.4529936 , 3.44679948, 3.9532882 ,\n",
       "        3.97680911, 3.43579041, 3.55534834, 3.65174837, 3.66238811,\n",
       "        3.8303285 , 2.97022619],\n",
       "       [3.50016775, 3.8691062 , 3.71019241, 3.87130819, 4.04313733,\n",
       "        3.80876607, 3.84228144, 3.83753234, 3.69635567, 4.04905227,\n",
       "        3.89574034, 4.02511221],\n",
       "       [3.76975892, 3.48443654, 3.10479152, 3.29512699, 3.68991524,\n",
       "        3.098787  , 3.02548562, 3.9701381 , 3.67281497, 3.65889808,\n",
       "        3.81976424, 3.66125152],\n",
       "       [3.51186301, 3.75767222, 3.55613614, 3.29999714, 2.92424196,\n",
       "        3.34665087, 3.27907796, 3.98559206, 3.65408336, 3.63523109,\n",
       "        3.76225645, 3.49199232],\n",
       "       [3.91892915, 3.90008052, 3.71066461, 3.69768725, 3.95305712,\n",
       "        3.80983098, 3.88022146, 3.80963134, 3.58628108, 3.86096221,\n",
       "        3.9152491 , 3.90456595],\n",
       "       [4.05445735, 3.70977391, 3.68617783, 3.74365688, 3.76898115,\n",
       "        3.96765563, 3.46718087, 4.0570292 , 3.46181391, 3.44260316,\n",
       "        3.72870765, 3.57647453],\n",
       "       [3.87703659, 3.74206557, 3.62338283, 3.82332472, 3.94039288,\n",
       "        4.10722796, 3.67742997, 3.94888523, 3.76700547, 4.00236574,\n",
       "        4.02631962, 4.14529895],\n",
       "       [3.45899359, 3.50279813, 3.10446063, 3.63580955, 3.27887462,\n",
       "        2.7937249 , 3.06578655, 3.50945322, 3.1081993 , 3.46670448,\n",
       "        3.1628462 , 3.2746857 ],\n",
       "       [3.96659489, 3.53109948, 3.76192114, 3.82488517, 3.74087736,\n",
       "        3.44124601, 3.3414658 , 3.45869223, 3.35203957, 3.8192794 ,\n",
       "        3.5649468 , 3.55892808],\n",
       "       [3.43252197, 3.36662322, 3.67702595, 3.74430367, 3.95948154,\n",
       "        3.50164316, 3.91601086, 3.96375414, 3.86205636, 3.87015908,\n",
       "        4.04871943, 3.71344842],\n",
       "       [3.15992899, 3.72056071, 3.43884919, 3.2101763 , 3.73150861,\n",
       "               nan, 3.35081866, 3.56013158, 3.40233724, 3.88546214,\n",
       "        3.25340923, 3.50996565],\n",
       "       [3.95689762, 3.62684499, 3.88850905, 3.61032989, 3.93468842,\n",
       "        3.54000858, 3.6669682 , 4.10619261, 3.69710219, 3.54468433,\n",
       "        3.5594715 , 3.91146616],\n",
       "       [3.61058015, 3.37696322, 3.26919996, 3.79321067, 3.70851929,\n",
       "        2.66172934, 3.36932076, 3.714312  , 3.1080362 , 2.83054759,\n",
       "        3.3806301 , 3.39202711],\n",
       "       [3.97227854, 3.7818576 , 3.43650895, 4.15035932, 3.89651539,\n",
       "        3.59547871, 3.4110699 , 4.0387992 , 3.53939713, 3.886456  ,\n",
       "        3.76237277, 3.71825279],\n",
       "       [3.8927778 , 3.79270795, 3.73696288, 3.85754446, 3.92906477,\n",
       "        4.02891799, 3.81404739, 4.10788676, 3.49416227, 3.9926866 ,\n",
       "        3.84532837, 3.8083615 ],\n",
       "       [3.22202143, 3.50940429, 3.89712555, 3.6102257 , 3.8770696 ,\n",
       "        3.87458784, 3.77675014, 3.77784204, 3.50452314, 3.96709735,\n",
       "        3.7785249 , 3.61426916],\n",
       "       [4.09718761, 3.6355902 , 3.92061374, 3.58783454, 3.94699432,\n",
       "        3.80109991, 3.83002235, 3.8572002 , 3.92689367, 3.93978361,\n",
       "        3.75244424, 4.06278242]])"
      ]
     },
     "execution_count": 185,
     "metadata": {},
     "output_type": "execute_result"
    }
   ],
   "source": [
    "EntropiesInd"
   ]
  },
  {
   "cell_type": "code",
   "execution_count": 187,
   "id": "46df6366",
   "metadata": {},
   "outputs": [
    {
     "data": {
      "text/plain": [
       "array([6.92755791, 6.92755791, 6.92755791, 6.92755791, 6.92755791,\n",
       "       6.92755791, 6.92755791, 6.92755791, 6.92755791, 6.92755791,\n",
       "       6.92755791, 6.92755791, 6.92755791, 6.92755791, 6.92755791,\n",
       "       6.92755791, 6.92755791, 6.92755791, 6.92755791, 6.92755791,\n",
       "       6.92755791, 6.92755791, 6.92755791, 6.92755791, 6.92755791,\n",
       "       6.92755791, 6.92755791, 6.92755791, 6.92755791, 6.92755791,\n",
       "       6.92755791, 6.92755791, 6.92755791, 6.92755791, 6.92755791,\n",
       "       6.92755791, 6.92755791, 6.92755791, 6.92755791, 6.92755791,\n",
       "       6.92755791, 6.92755791, 6.92755791, 6.92755791, 6.92755791,\n",
       "       6.92755791, 6.92755791, 6.92755791, 6.92755791, 6.92755791,\n",
       "       6.92755791, 6.92755791, 6.92755791, 6.92755791, 6.92755791,\n",
       "       6.92755791])"
      ]
     },
     "execution_count": 187,
     "metadata": {},
     "output_type": "execute_result"
    }
   ],
   "source": [
    "EntropiesMaxInd[:,0]"
   ]
  },
  {
   "cell_type": "code",
   "execution_count": 188,
   "id": "a5df9023",
   "metadata": {},
   "outputs": [
    {
     "data": {
      "text/plain": [
       "array([6.92755791, 5.97126184, 6.26720055, 6.93342303, 6.96979067,\n",
       "       7.00306546, 6.89770494, 7.14991684, 6.41181827, 7.12286666,\n",
       "       6.3403593 , 6.37672695])"
      ]
     },
     "execution_count": 188,
     "metadata": {},
     "output_type": "execute_result"
    }
   ],
   "source": [
    "EntropMax"
   ]
  },
  {
   "cell_type": "code",
   "execution_count": 168,
   "id": "00aff03c",
   "metadata": {},
   "outputs": [],
   "source": [
    "FixCountInd=MyDat.FixCountCalc('Bellini_Halbakt')\n",
    "\n"
   ]
  },
  {
   "cell_type": "code",
   "execution_count": 169,
   "id": "214a8493",
   "metadata": {},
   "outputs": [
    {
     "data": {
      "text/plain": [
       "(31, 51)"
      ]
     },
     "execution_count": 169,
     "metadata": {},
     "output_type": "execute_result"
    }
   ],
   "source": [
    "np.shape(MyDat.BinnedCount(np.sum(MyDat.FixCountInd,0),'Bellini_Halbakt'))"
   ]
  },
  {
   "cell_type": "code",
   "execution_count": 105,
   "id": "ed4f8989",
   "metadata": {},
   "outputs": [
    {
     "data": {
      "text/plain": [
       "array([[0., 0., 0., ..., 0., 0., 0.],\n",
       "       [0., 0., 0., ..., 0., 0., 0.],\n",
       "       [0., 0., 0., ..., 0., 0., 0.],\n",
       "       ...,\n",
       "       [0., 0., 0., ..., 0., 0., 0.],\n",
       "       [0., 0., 0., ..., 0., 0., 0.],\n",
       "       [0., 0., 0., ..., 0., 0., 0.]])"
      ]
     },
     "execution_count": 105,
     "metadata": {},
     "output_type": "execute_result"
    },
    {
     "data": {
      "image/png": "[encoded data removed]",
      "text/plain": [
       "<Figure size 432x288 with 1 Axes>"
      ]
     },
     "metadata": {},
     "output_type": "display_data"
    }
   ],
   "source": [
    "MyDat.Heatmap('Bellini_Halbakt',SD=50,Vis=1)"
   ]
  },
  {
   "cell_type": "code",
   "execution_count": 110,
   "id": "62e59997",
   "metadata": {},
   "outputs": [
    {
     "ename": "KeyError",
     "evalue": "1",
     "output_type": "error",
     "traceback": [
      "\u001b[1;31m---------------------------------------------------------------------------\u001b[0m",
      "\u001b[1;31mKeyError\u001b[0m                                  Traceback (most recent call last)",
      "\u001b[1;32m~\\AppData\\Local\\Continuum\\anaconda3\\envs\\tf\\lib\\site-packages\\pandas\\core\\indexes\\base.py\u001b[0m in \u001b[0;36mget_loc\u001b[1;34m(self, key, method, tolerance)\u001b[0m\n\u001b[0;32m   3360\u001b[0m             \u001b[1;32mtry\u001b[0m\u001b[1;33m:\u001b[0m\u001b[1;33m\u001b[0m\u001b[1;33m\u001b[0m\u001b[0m\n\u001b[1;32m-> 3361\u001b[1;33m                 \u001b[1;32mreturn\u001b[0m \u001b[0mself\u001b[0m\u001b[1;33m.\u001b[0m\u001b[0m_engine\u001b[0m\u001b[1;33m.\u001b[0m\u001b[0mget_loc\u001b[0m\u001b[1;33m(\u001b[0m\u001b[0mcasted_key\u001b[0m\u001b[1;33m)\u001b[0m\u001b[1;33m\u001b[0m\u001b[1;33m\u001b[0m\u001b[0m\n\u001b[0m\u001b[0;32m   3362\u001b[0m             \u001b[1;32mexcept\u001b[0m \u001b[0mKeyError\u001b[0m \u001b[1;32mas\u001b[0m \u001b[0merr\u001b[0m\u001b[1;33m:\u001b[0m\u001b[1;33m\u001b[0m\u001b[1;33m\u001b[0m\u001b[0m\n",
      "\u001b[1;32m~\\AppData\\Local\\Continuum\\anaconda3\\envs\\tf\\lib\\site-packages\\pandas\\_libs\\index.pyx\u001b[0m in \u001b[0;36mpandas._libs.index.IndexEngine.get_loc\u001b[1;34m()\u001b[0m\n",
      "\u001b[1;32m~\\AppData\\Local\\Continuum\\anaconda3\\envs\\tf\\lib\\site-packages\\pandas\\_libs\\index.pyx\u001b[0m in \u001b[0;36mpandas._libs.index.IndexEngine.get_loc\u001b[1;34m()\u001b[0m\n",
      "\u001b[1;32mpandas\\_libs\\hashtable_class_helper.pxi\u001b[0m in \u001b[0;36mpandas._libs.hashtable.PyObjectHashTable.get_item\u001b[1;34m()\u001b[0m\n",
      "\u001b[1;32mpandas\\_libs\\hashtable_class_helper.pxi\u001b[0m in \u001b[0;36mpandas._libs.hashtable.PyObjectHashTable.get_item\u001b[1;34m()\u001b[0m\n",
      "\u001b[1;31mKeyError\u001b[0m: 1",
      "\nThe above exception was the direct cause of the following exception:\n",
      "\u001b[1;31mKeyError\u001b[0m                                  Traceback (most recent call last)",
      "\u001b[1;32m~\\AppData\\Local\\Temp/ipykernel_7588/615203682.py\u001b[0m in \u001b[0;36m<module>\u001b[1;34m\u001b[0m\n\u001b[1;32m----> 1\u001b[1;33m \u001b[0mMyDat\u001b[0m\u001b[1;33m.\u001b[0m\u001b[0mBounds\u001b[0m\u001b[1;33m[\u001b[0m\u001b[0mMyDat\u001b[0m\u001b[1;33m.\u001b[0m\u001b[0mBounds\u001b[0m\u001b[1;33m[\u001b[0m\u001b[1;34m'Stimulus'\u001b[0m\u001b[1;33m]\u001b[0m\u001b[1;33m==\u001b[0m\u001b[1;34m'Cranach_Venus'\u001b[0m\u001b[1;33m]\u001b[0m\u001b[1;33m[\u001b[0m\u001b[1;36m1\u001b[0m\u001b[1;33m]\u001b[0m\u001b[1;33m\u001b[0m\u001b[1;33m\u001b[0m\u001b[0m\n\u001b[0m",
      "\u001b[1;32m~\\AppData\\Local\\Continuum\\anaconda3\\envs\\tf\\lib\\site-packages\\pandas\\core\\frame.py\u001b[0m in \u001b[0;36m__getitem__\u001b[1;34m(self, key)\u001b[0m\n\u001b[0;32m   3456\u001b[0m             \u001b[1;32mif\u001b[0m \u001b[0mself\u001b[0m\u001b[1;33m.\u001b[0m\u001b[0mcolumns\u001b[0m\u001b[1;33m.\u001b[0m\u001b[0mnlevels\u001b[0m \u001b[1;33m>\u001b[0m \u001b[1;36m1\u001b[0m\u001b[1;33m:\u001b[0m\u001b[1;33m\u001b[0m\u001b[1;33m\u001b[0m\u001b[0m\n\u001b[0;32m   3457\u001b[0m                 \u001b[1;32mreturn\u001b[0m \u001b[0mself\u001b[0m\u001b[1;33m.\u001b[0m\u001b[0m_getitem_multilevel\u001b[0m\u001b[1;33m(\u001b[0m\u001b[0mkey\u001b[0m\u001b[1;33m)\u001b[0m\u001b[1;33m\u001b[0m\u001b[1;33m\u001b[0m\u001b[0m\n\u001b[1;32m-> 3458\u001b[1;33m             \u001b[0mindexer\u001b[0m \u001b[1;33m=\u001b[0m \u001b[0mself\u001b[0m\u001b[1;33m.\u001b[0m\u001b[0mcolumns\u001b[0m\u001b[1;33m.\u001b[0m\u001b[0mget_loc\u001b[0m\u001b[1;33m(\u001b[0m\u001b[0mkey\u001b[0m\u001b[1;33m)\u001b[0m\u001b[1;33m\u001b[0m\u001b[1;33m\u001b[0m\u001b[0m\n\u001b[0m\u001b[0;32m   3459\u001b[0m             \u001b[1;32mif\u001b[0m \u001b[0mis_integer\u001b[0m\u001b[1;33m(\u001b[0m\u001b[0mindexer\u001b[0m\u001b[1;33m)\u001b[0m\u001b[1;33m:\u001b[0m\u001b[1;33m\u001b[0m\u001b[1;33m\u001b[0m\u001b[0m\n\u001b[0;32m   3460\u001b[0m                 \u001b[0mindexer\u001b[0m \u001b[1;33m=\u001b[0m \u001b[1;33m[\u001b[0m\u001b[0mindexer\u001b[0m\u001b[1;33m]\u001b[0m\u001b[1;33m\u001b[0m\u001b[1;33m\u001b[0m\u001b[0m\n",
      "\u001b[1;32m~\\AppData\\Local\\Continuum\\anaconda3\\envs\\tf\\lib\\site-packages\\pandas\\core\\indexes\\base.py\u001b[0m in \u001b[0;36mget_loc\u001b[1;34m(self, key, method, tolerance)\u001b[0m\n\u001b[0;32m   3361\u001b[0m                 \u001b[1;32mreturn\u001b[0m \u001b[0mself\u001b[0m\u001b[1;33m.\u001b[0m\u001b[0m_engine\u001b[0m\u001b[1;33m.\u001b[0m\u001b[0mget_loc\u001b[0m\u001b[1;33m(\u001b[0m\u001b[0mcasted_key\u001b[0m\u001b[1;33m)\u001b[0m\u001b[1;33m\u001b[0m\u001b[1;33m\u001b[0m\u001b[0m\n\u001b[0;32m   3362\u001b[0m             \u001b[1;32mexcept\u001b[0m \u001b[0mKeyError\u001b[0m \u001b[1;32mas\u001b[0m \u001b[0merr\u001b[0m\u001b[1;33m:\u001b[0m\u001b[1;33m\u001b[0m\u001b[1;33m\u001b[0m\u001b[0m\n\u001b[1;32m-> 3363\u001b[1;33m                 \u001b[1;32mraise\u001b[0m \u001b[0mKeyError\u001b[0m\u001b[1;33m(\u001b[0m\u001b[0mkey\u001b[0m\u001b[1;33m)\u001b[0m \u001b[1;32mfrom\u001b[0m \u001b[0merr\u001b[0m\u001b[1;33m\u001b[0m\u001b[1;33m\u001b[0m\u001b[0m\n\u001b[0m\u001b[0;32m   3364\u001b[0m \u001b[1;33m\u001b[0m\u001b[0m\n\u001b[0;32m   3365\u001b[0m         \u001b[1;32mif\u001b[0m \u001b[0mis_scalar\u001b[0m\u001b[1;33m(\u001b[0m\u001b[0mkey\u001b[0m\u001b[1;33m)\u001b[0m \u001b[1;32mand\u001b[0m \u001b[0misna\u001b[0m\u001b[1;33m(\u001b[0m\u001b[0mkey\u001b[0m\u001b[1;33m)\u001b[0m \u001b[1;32mand\u001b[0m \u001b[1;32mnot\u001b[0m \u001b[0mself\u001b[0m\u001b[1;33m.\u001b[0m\u001b[0mhasnans\u001b[0m\u001b[1;33m:\u001b[0m\u001b[1;33m\u001b[0m\u001b[1;33m\u001b[0m\u001b[0m\n",
      "\u001b[1;31mKeyError\u001b[0m: 1"
     ]
    }
   ],
   "source": [
    "FixCountCalc()"
   ]
  },
  {
   "cell_type": "code",
   "execution_count": 155,
   "id": "eb0e492e",
   "metadata": {},
   "outputs": [
    {
     "data": {
      "text/plain": [
       "415.56"
      ]
     },
     "execution_count": 155,
     "metadata": {},
     "output_type": "execute_result"
    }
   ],
   "source": [
    "np.float64(MyDat.Bounds['BoundX1'][MyDat.Bounds['Stimulus']=='Bellini_Halbakt'])"
   ]
  }
 ],
 "metadata": {
  "kernelspec": {
   "display_name": "Python 3 (ipykernel)",
   "language": "python",
   "name": "python3"
  },
  "language_info": {
   "codemirror_mode": {
    "name": "ipython",
    "version": 3
   },
   "file_extension": ".py",
   "mimetype": "text/x-python",
   "name": "python",
   "nbconvert_exporter": "python",
   "pygments_lexer": "ipython3",
   "version": "3.7.12"
  }
 },
 "nbformat": 4,
 "nbformat_minor": 5
}

{
 "cells": [
  {
   "cell_type": "code",
   "execution_count": 1,
   "metadata": {},
   "outputs": [],
   "source": [
    "# Load the autoreload extension\n",
    "%load_ext autoreload\n",
    "\n",
    "# Set autoreload mode\n",
    "%autoreload 2\n",
    "from PyEyeSim import EyeData,extract_heatmap_arrays, extract_angle_arrays, RSA_from_angles, RSA_from_heatmaps, RSA_from_mem\n",
    "import glob\n",
    "import pandas as pd\n",
    "from matplotlib import pyplot as plt\n",
    "from scipy import stats\n",
    "from scipy.spatial.distance import cdist\n",
    "import seaborn as sns\n",
    "from icecream import ic\n",
    "import math\n",
    "import numpy as np\n",
    "import pickle"
   ]
  },
  {
   "cell_type": "code",
   "execution_count": 2,
   "metadata": {},
   "outputs": [],
   "source": [
    "NUMBER_OF_SUBJECTS = 50\n",
    "# subjects with different FOV\n",
    "subjects_1920 = [1, 2, 3, 14, 15, 17, 18, 19, 20, 21, 22, 36, 37]\n",
    "# FOV shift common\n",
    "coordinate_shift_1280 = [262, 390]\n",
    "# FOV shift rare\n",
    "coordinate_shift_1920 = [290, 710]\n",
    "# image pixels (quadratic)\n",
    "IMAGE_DIMS = 500\n",
    "\n",
    "fixation_file_pattern ='*_FIX_R*'\n",
    "\n",
    "filename_prototype = \"/Users/juliusduin/Desktop/Master-Psychologie/MA/data/prep_fixs/\"\n",
    "\n",
    "fixation_files = glob.glob(filename_prototype+fixation_file_pattern)\n",
    "\n",
    "all_subjects_df = pd.concat((pd.read_csv(file) for file in fixation_files))\n",
    "all_subjects_df['subID_num'] = all_subjects_df['subID'].str.extract('(\\d+)').astype(int)\n",
    "all_subjects_df['viewing_position'] = all_subjects_df['subID_num'].apply(lambda x: 1 if x in subjects_1920 else 0)\n",
    "all_subjects_df['x'] = all_subjects_df.apply(\n",
    "    lambda row: row['mean_x'] - coordinate_shift_1920[1] if row['viewing_position'] == 1 else row['mean_x'] -\n",
    "                                                                                              coordinate_shift_1280[1],\n",
    "    axis=1)\n",
    "all_subjects_df['y'] = all_subjects_df.apply(\n",
    "    lambda row: row['mean_y'] - coordinate_shift_1920[0] if row['viewing_position'] == 1 else row['mean_y'] -\n",
    "                                                                                              coordinate_shift_1280[0],\n",
    "    axis=1)\n",
    "all_subjects_df = all_subjects_df.drop(columns=['mean_x', 'mean_y'])\n",
    "all_subjects_df['memory_bin'] = all_subjects_df['memory'].map({1: 1, 2: 1, 3: 2, 4: 2})\n",
    "\n",
    "# extract scenes only\n",
    "all_subjects_df = all_subjects_df[all_subjects_df.cat == 2]"
   ]
  },
  {
   "cell_type": "code",
   "execution_count": 3,
   "metadata": {},
   "outputs": [
    {
     "name": "stdout",
     "output_type": "stream",
     "text": [
      "dataset size:  (37264, 13)\n",
      "study design:  between\n",
      "presentation size:  x= 500 pixels y= 500  pixels\n",
      "presentation size:  x= 500 pixels y= 500  pixels\n",
      "Stimulus  not found !!, provide column as Stimulus =YourColumn , default:  Stimulus\n",
      "subjectID  not found !!, provide column as subjectID =YourColumn , default:  subjectID\n",
      "mean_x  not found !!, provide column as mean_x =YourColumn , default:  mean_x\n",
      "mean_y  not found !!, provide column as mean_y =YourColumn , default:  mean_y\n",
      "info found for 46 subjects, and 192 stimuli\n",
      "run descriptive analysis\n",
      "Data for  46 observers and  192  stimuli.\n"
     ]
    },
    {
     "name": "stderr",
     "output_type": "stream",
     "text": [
      "/Users/juliusduin/Desktop/uni_work/PyEyeSim/PyEyeSim/__init__.py:94: UserWarning: Stim path not provided\n",
      "  warnings.warn('Stim path not provided')\n",
      "/Library/Frameworks/Python.framework/Versions/3.9/lib/python3.9/site-packages/numpy/core/fromnumeric.py:3474: RuntimeWarning: Mean of empty slice.\n",
      "  return _methods._mean(a, axis=axis, dtype=dtype,\n",
      "/Library/Frameworks/Python.framework/Versions/3.9/lib/python3.9/site-packages/numpy/core/_methods.py:189: RuntimeWarning: invalid value encountered in double_scalars\n",
      "  ret = ret.dtype.type(ret / rcount)\n"
     ]
    },
    {
     "name": "stdout",
     "output_type": "stream",
     "text": [
      "Mean fixation number:  8.48  +/-  1.28\n",
      "fixation duration not asked for\n",
      "Num of trials with zero fixations: 0\n",
      "Num valid trials  4392\n",
      "Mean X location:  239.8  +/-  27.6  pixels\n",
      "Mean Y location:  249.0  +/-  41.1  pixels\n",
      "Mean saccade  amplitude:  127.6  +/-  18.6  pixels\n",
      "Mean scanpath  length:  943.2  +/-  180.9  pixels\n",
      "Data for  46 observers and  192  stimuli.\n"
     ]
    },
    {
     "name": "stderr",
     "output_type": "stream",
     "text": [
      "/Library/Frameworks/Python.framework/Versions/3.9/lib/python3.9/site-packages/numpy/core/fromnumeric.py:3474: RuntimeWarning: Mean of empty slice.\n",
      "  return _methods._mean(a, axis=axis, dtype=dtype,\n",
      "/Library/Frameworks/Python.framework/Versions/3.9/lib/python3.9/site-packages/numpy/core/_methods.py:189: RuntimeWarning: invalid value encountered in double_scalars\n",
      "  ret = ret.dtype.type(ret / rcount)\n"
     ]
    },
    {
     "name": "stdout",
     "output_type": "stream",
     "text": [
      "Mean fixation number:  8.48  +/-  1.28\n",
      "fixation duration not asked for\n",
      "Num of trials with zero fixations: 0\n",
      "Num valid trials  4392\n",
      "Mean X location:  239.8  +/-  27.6  pixels\n",
      "Mean Y location:  249.0  +/-  41.1  pixels\n",
      "Mean saccade  amplitude:  127.6  +/-  18.6  pixels\n",
      "Mean scanpath  length:  943.2  +/-  180.9  pixels\n"
     ]
    },
    {
     "data": {
      "text/plain": [
       "(array(['set1_s_1.png', 'set1_s_10.png', 'set1_s_11.png', 'set1_s_12.png',\n",
       "        'set1_s_13.png', 'set1_s_14.png', 'set1_s_15.png', 'set1_s_16.png',\n",
       "        'set1_s_17.png', 'set1_s_18.png', 'set1_s_19.png', 'set1_s_2.png',\n",
       "        'set1_s_20.png', 'set1_s_21.png', 'set1_s_22.png', 'set1_s_23.png',\n",
       "        'set1_s_24.png', 'set1_s_25.png', 'set1_s_26.png', 'set1_s_27.png',\n",
       "        'set1_s_28.png', 'set1_s_29.png', 'set1_s_3.png', 'set1_s_30.png',\n",
       "        'set1_s_31.png', 'set1_s_32.png', 'set1_s_33.png', 'set1_s_34.png',\n",
       "        'set1_s_35.png', 'set1_s_36.png', 'set1_s_37.png', 'set1_s_38.png',\n",
       "        'set1_s_39.png', 'set1_s_4.png', 'set1_s_40.png', 'set1_s_41.png',\n",
       "        'set1_s_42.png', 'set1_s_43.png', 'set1_s_44.png', 'set1_s_45.png',\n",
       "        'set1_s_46.png', 'set1_s_47.png', 'set1_s_48.png', 'set1_s_49.png',\n",
       "        'set1_s_5.png', 'set1_s_50.png', 'set1_s_51.png', 'set1_s_52.png',\n",
       "        'set1_s_53.png', 'set1_s_54.png', 'set1_s_55.png', 'set1_s_56.png',\n",
       "        'set1_s_57.png', 'set1_s_58.png', 'set1_s_59.png', 'set1_s_6.png',\n",
       "        'set1_s_60.png', 'set1_s_61.png', 'set1_s_62.png', 'set1_s_63.png',\n",
       "        'set1_s_64.png', 'set1_s_65.png', 'set1_s_66.png', 'set1_s_67.png',\n",
       "        'set1_s_68.png', 'set1_s_69.png', 'set1_s_7.png', 'set1_s_70.png',\n",
       "        'set1_s_71.png', 'set1_s_72.png', 'set1_s_73.png', 'set1_s_74.png',\n",
       "        'set1_s_75.png', 'set1_s_76.png', 'set1_s_77.png', 'set1_s_78.png',\n",
       "        'set1_s_79.png', 'set1_s_8.png', 'set1_s_80.png', 'set1_s_81.png',\n",
       "        'set1_s_82.png', 'set1_s_83.png', 'set1_s_84.png', 'set1_s_85.png',\n",
       "        'set1_s_86.png', 'set1_s_87.png', 'set1_s_88.png', 'set1_s_89.png',\n",
       "        'set1_s_9.png', 'set1_s_90.png', 'set1_s_91.png', 'set1_s_92.png',\n",
       "        'set1_s_93.png', 'set1_s_94.png', 'set1_s_95.png', 'set1_s_96.png',\n",
       "        'set2_s_1.png', 'set2_s_10.png', 'set2_s_11.png', 'set2_s_12.png',\n",
       "        'set2_s_13.png', 'set2_s_14.png', 'set2_s_15.png', 'set2_s_16.png',\n",
       "        'set2_s_17.png', 'set2_s_18.png', 'set2_s_19.png', 'set2_s_2.png',\n",
       "        'set2_s_20.png', 'set2_s_21.png', 'set2_s_22.png', 'set2_s_23.png',\n",
       "        'set2_s_24.png', 'set2_s_25.png', 'set2_s_26.png', 'set2_s_27.png',\n",
       "        'set2_s_28.png', 'set2_s_29.png', 'set2_s_3.png', 'set2_s_30.png',\n",
       "        'set2_s_31.png', 'set2_s_32.png', 'set2_s_33.png', 'set2_s_34.png',\n",
       "        'set2_s_35.png', 'set2_s_36.png', 'set2_s_37.png', 'set2_s_38.png',\n",
       "        'set2_s_39.png', 'set2_s_4.png', 'set2_s_40.png', 'set2_s_41.png',\n",
       "        'set2_s_42.png', 'set2_s_43.png', 'set2_s_44.png', 'set2_s_45.png',\n",
       "        'set2_s_46.png', 'set2_s_47.png', 'set2_s_48.png', 'set2_s_49.png',\n",
       "        'set2_s_5.png', 'set2_s_50.png', 'set2_s_51.png', 'set2_s_52.png',\n",
       "        'set2_s_53.png', 'set2_s_54.png', 'set2_s_55.png', 'set2_s_56.png',\n",
       "        'set2_s_57.png', 'set2_s_58.png', 'set2_s_59.png', 'set2_s_6.png',\n",
       "        'set2_s_60.png', 'set2_s_61.png', 'set2_s_62.png', 'set2_s_63.png',\n",
       "        'set2_s_64.png', 'set2_s_65.png', 'set2_s_66.png', 'set2_s_67.png',\n",
       "        'set2_s_68.png', 'set2_s_69.png', 'set2_s_7.png', 'set2_s_70.png',\n",
       "        'set2_s_71.png', 'set2_s_72.png', 'set2_s_73.png', 'set2_s_74.png',\n",
       "        'set2_s_75.png', 'set2_s_76.png', 'set2_s_77.png', 'set2_s_78.png',\n",
       "        'set2_s_79.png', 'set2_s_8.png', 'set2_s_80.png', 'set2_s_81.png',\n",
       "        'set2_s_82.png', 'set2_s_83.png', 'set2_s_84.png', 'set2_s_85.png',\n",
       "        'set2_s_86.png', 'set2_s_87.png', 'set2_s_88.png', 'set2_s_89.png',\n",
       "        'set2_s_9.png', 'set2_s_90.png', 'set2_s_91.png', 'set2_s_92.png',\n",
       "        'set2_s_93.png', 'set2_s_94.png', 'set2_s_95.png', 'set2_s_96.png'],\n",
       "       dtype=object),\n",
       " array(['S01', 'S02', 'S03', 'S04', 'S05', 'S06', 'S07', 'S09', 'S10',\n",
       "        'S11', 'S12', 'S13', 'S14', 'S15', 'S16', 'S17', 'S18', 'S19',\n",
       "        'S20', 'S21', 'S22', 'S23', 'S25', 'S26', 'S27', 'S28', 'S30',\n",
       "        'S31', 'S32', 'S33', 'S34', 'S35', 'S36', 'S37', 'S38', 'S39',\n",
       "        'S40', 'S41', 'S42', 'S43', 'S44', 'S45', 'S46', 'S47', 'S49',\n",
       "        'S50'], dtype=object))"
      ]
     },
     "execution_count": 3,
     "metadata": {},
     "output_type": "execute_result"
    }
   ],
   "source": [
    "MemData = EyeData('MemData', 'between', all_subjects_df, x_size=500,y_size=500)\n",
    "MemData.DataInfo(FixDuration='duration',Stimulus='pic',subjectID='subID', mean_x='x', mean_y='y')\n",
    "MemData.RunDescriptiveFix(Visual=0)"
   ]
  },
  {
   "cell_type": "code",
   "execution_count": 4,
   "metadata": {},
   "outputs": [],
   "source": [
    "try:\n",
    "    with open('example_pkl/angles_ex.pkl', 'rb') as f:\n",
    "        anglesFromMemData = pickle.load(f)\n",
    "    with open('example_pkl/heatmaps_ex.pkl', 'rb') as f:\n",
    "        heatmapsFromMemData = pickle.load(f)\n",
    "    with open('example_pkl/mem_ex.pkl', 'rb') as f:\n",
    "        memRDMs = pickle.load(f)    \n",
    "    with open('example_pkl/heatmaps20_ex.pkl', 'rb') as f:\n",
    "        heatmapsFromMemData20 = pickle.load(f)\n",
    "    with open('example_pkl/heatmaps50_ex.pkl', 'rb') as f:\n",
    "        heatmapsFromMemData50 = pickle.load(f)\n",
    "except:\n",
    "    print('no data found, compute now')\n",
    "    anglesFromMemData = extract_angle_arrays(MemData, MemData.stimuli)\n",
    "    heatmapsFromMemData, heatmapPenalty = extract_heatmap_arrays(MemData, MemData.stimuli, [500, 500])\n",
    "    memRDMs = RSA_from_mem(MemData, MemData.stimuli)\n",
    "    heatmapsFromMemData20, heatmapPenalty20 = extract_heatmap_arrays(MemData, MemData.stimuli, [500, 500], resize_to=(20,20))\n",
    "    heatmapsFromMemData50, heatmapPenalty50 = extract_heatmap_arrays(MemData, MemData.stimuli, [500, 500], resize_to=(50,50))"
   ]
  },
  {
   "cell_type": "code",
   "execution_count": 5,
   "metadata": {},
   "outputs": [
    {
     "data": {
      "text/plain": [
       "<matplotlib.image.AxesImage at 0x7f959ea78040>"
      ]
     },
     "execution_count": 5,
     "metadata": {},
     "output_type": "execute_result"
    },
    {
     "data": {
      "image/png": "[encoded data removed]",
      "text/plain": [
       "<Figure size 432x288 with 1 Axes>"
      ]
     },
     "metadata": {
      "needs_background": "light"
     },
     "output_type": "display_data"
    }
   ],
   "source": [
    "plt.imshow(heatmapsFromMemData[MemData.stimuli[0]]['S02'])"
   ]
  },
  {
   "cell_type": "code",
   "execution_count": 6,
   "metadata": {},
   "outputs": [
    {
     "name": "stderr",
     "output_type": "stream",
     "text": [
      "/Library/Frameworks/Python.framework/Versions/3.9/lib/python3.9/site-packages/numpy/lib/function_base.py:2829: RuntimeWarning: invalid value encountered in true_divide\n",
      "  c /= stddev[:, None]\n",
      "/Library/Frameworks/Python.framework/Versions/3.9/lib/python3.9/site-packages/numpy/lib/function_base.py:2830: RuntimeWarning: invalid value encountered in true_divide\n",
      "  c /= stddev[None, :]\n"
     ]
    }
   ],
   "source": [
    "anglesRDMs = RSA_from_angles(anglesFromMemData, kind='simple')\n",
    "heatmapsRDMs = RSA_from_heatmaps(heatmapsFromMemData)\n",
    "heatmaps20RDMs = RSA_from_heatmaps(heatmapsFromMemData20)\n",
    "heatmaps50RDMs = RSA_from_heatmaps(heatmapsFromMemData50)"
   ]
  },
  {
   "cell_type": "code",
   "execution_count": 7,
   "metadata": {},
   "outputs": [],
   "source": [
    "anglesRDMseuc = RSA_from_angles(anglesFromMemData, kind='euclidean')"
   ]
  },
  {
   "cell_type": "code",
   "execution_count": 8,
   "metadata": {},
   "outputs": [
    {
     "data": {
      "text/plain": [
       "<matplotlib.image.AxesImage at 0x7f959ed6ccd0>"
      ]
     },
     "execution_count": 8,
     "metadata": {},
     "output_type": "execute_result"
    },
    {
     "data": {
      "image/png": "[encoded data removed]",
      "text/plain": [
       "<Figure size 432x288 with 1 Axes>"
      ]
     },
     "metadata": {
      "needs_background": "light"
     },
     "output_type": "display_data"
    }
   ],
   "source": [
    "plt.imshow(memRDMs[MemData.stimuli[1]]);"
   ]
  },
  {
   "cell_type": "code",
   "execution_count": 9,
   "metadata": {},
   "outputs": [],
   "source": [
    "def plotRDMdifferences(rdms, memrdms, vis=False):\n",
    "    mem1a = []\n",
    "    mem2b = []\n",
    "    for img in rdms:\n",
    "        mem1h = rdms[img][memrdms[img] == 2]\n",
    "        mem2h = rdms[img][memrdms[img] == 1]\n",
    "        mem1a.append(np.mean(mem1h))\n",
    "        mem2b.append(np.mean(mem2h))\n",
    "    if vis:\n",
    "        plt.figure(figsize=(10, 10))\n",
    "        plt.plot(mem1a)\n",
    "        plt.plot(mem2b)\n",
    "    return mem1a, mem2b"
   ]
  },
  {
   "cell_type": "code",
   "execution_count": 10,
   "metadata": {},
   "outputs": [
    {
     "name": "stderr",
     "output_type": "stream",
     "text": [
      "/Library/Frameworks/Python.framework/Versions/3.9/lib/python3.9/site-packages/numpy/core/fromnumeric.py:3474: RuntimeWarning: Mean of empty slice.\n",
      "  return _methods._mean(a, axis=axis, dtype=dtype,\n",
      "/Library/Frameworks/Python.framework/Versions/3.9/lib/python3.9/site-packages/numpy/core/_methods.py:189: RuntimeWarning: invalid value encountered in double_scalars\n",
      "  ret = ret.dtype.type(ret / rcount)\n"
     ]
    }
   ],
   "source": [
    "hmmem20_1, hmmem20_2 = plotRDMdifferences(heatmaps20RDMs, memRDMs)"
   ]
  },
  {
   "cell_type": "code",
   "execution_count": 11,
   "metadata": {},
   "outputs": [],
   "source": [
    "hmmem50_1, hmmem50_2 = plotRDMdifferences(heatmaps50RDMs, memRDMs)"
   ]
  },
  {
   "cell_type": "code",
   "execution_count": 12,
   "metadata": {},
   "outputs": [],
   "source": [
    "hmmem_1, hmmem_2 = plotRDMdifferences(heatmapsRDMs, memRDMs)"
   ]
  },
  {
   "cell_type": "code",
   "execution_count": 13,
   "metadata": {},
   "outputs": [],
   "source": [
    "angle_mem1 , angle_mem2 = plotRDMdifferences(anglesRDMs, memRDMs)"
   ]
  },
  {
   "cell_type": "code",
   "execution_count": 14,
   "metadata": {},
   "outputs": [],
   "source": [
    "angleeuc_mem1 , angleuc_mem2 = plotRDMdifferences(anglesRDMseuc, memRDMs)"
   ]
  },
  {
   "cell_type": "code",
   "execution_count": 15,
   "metadata": {},
   "outputs": [],
   "source": [
    "df_hm = pd.DataFrame({'hm' :['hm1', 'hm1', 'hm2', 'hm2', 'hm5', 'hm5', 'angle_avg_dist', 'angle_avg_dist', 'angle_single_dist', 'angle_single_dist'],\n",
    "                      'memory': ['mem1', 'mem2', 'mem1', 'mem2', 'mem1', 'mem2', 'mem1', 'mem2', 'mem1','mem2'],\n",
    "                      'values':[ np.nanmean(hmmem_1),np.nanmean(hmmem_2), np.nanmean(hmmem20_1), np.nanmean(hmmem20_2), np.nanmean(hmmem50_1), np.nanmean(hmmem50_2), np.nanmean(angle_mem1), np.nanmean(angle_mem2), np.nanmean(angleeuc_mem1), np.nanmean(angleuc_mem2)]})"
   ]
  },
  {
   "cell_type": "code",
   "execution_count": 20,
   "metadata": {},
   "outputs": [
    {
     "data": {
      "image/png": "[encoded data removed]",
      "text/plain": [
       "<Figure size 1080x720 with 1 Axes>"
      ]
     },
     "metadata": {
      "needs_background": "light"
     },
     "output_type": "display_data"
    }
   ],
   "source": [
    "plt.figure(figsize=(15,10))\n",
    "sns.barplot(x='hm', y='values', hue='memory', data=df_hm)\n",
    "plt.title('performance of similarity indicators regarding memory performance')\n",
    "plt.xlabel('average correlation')\n",
    "plt.ylabel('indicator (hm = heatmap)');"
   ]
  },
  {
   "cell_type": "code",
   "execution_count": 17,
   "metadata": {},
   "outputs": [],
   "source": [
    "def prune_sort_corr_angles(arr_1, arr_2, kind='euclidean'):\n",
    "\n",
    "\n",
    "    # Find distances between each element in arr2 and arr1\n",
    "    dists = np.abs(arr_2[:, np.newaxis] - arr_1)\n",
    "    return dists\n"
   ]
  },
  {
   "cell_type": "code",
   "execution_count": 18,
   "metadata": {},
   "outputs": [
    {
     "data": {
      "text/plain": [
       "5.0"
      ]
     },
     "execution_count": 18,
     "metadata": {},
     "output_type": "execute_result"
    }
   ],
   "source": [
    "arr1 = np.array([1, 5, 9, 11])\n",
    "arr2 = np.array([2, 3, 5, 6, 15])\n",
    "np.mean(prune_sort_corr_angles(arr1, arr2, kind='euclidean'))"
   ]
  }
 ],
 "metadata": {
  "kernelspec": {
   "display_name": "Python 3",
   "language": "python",
   "name": "python3"
  },
  "language_info": {
   "codemirror_mode": {
    "name": "ipython",
    "version": 3
   },
   "file_extension": ".py",
   "mimetype": "text/x-python",
   "name": "python",
   "nbconvert_exporter": "python",
   "pygments_lexer": "ipython3",
   "version": "3.9.2"
  }
 },
 "nbformat": 4,
 "nbformat_minor": 2
}
